{
 "cells": [
  {
   "cell_type": "markdown",
   "metadata": {},
   "source": [
    "---\n",
    "# E-commerce\n",
    "---\n",
    "<br><br><br>\n",
    "     \n",
    "\n",
    "## `Coдержание` :<br>\n",
    "\n",
    " - [***Описание исследуемого набора данных***](#Описание-исследуемого-набора-данных)\n",
    "\n",
    "\n",
    " - [***Подготовительный этап***](#Подготовительный-этап)\n",
    " \n",
    " \n",
    " - [***Задание №1***](#Задание-№1)\n",
    " \n",
    " \n",
    " - [***Задание №2***](#Задание-№2)\n",
    " \n",
    "  \n",
    " - [***Задание №3***](#Задание-№3)\n",
    "    \n",
    "  \n",
    " - [***Задание №4***](#Задание-№4)\n",
    "    \n",
    "    \n",
    " - [***Задание №5***](#Задание-№5)\n",
    "    \n",
    "\n",
    " - [***Задание №6***](#Задание-№6)\n",
    "     \n",
    "<br><br><br><br><br><br>\n",
    "     \n",
    "# [***К README проекта-->***](https://github.com/IvanoVladimir/karpov_courses/blob/main/Interim_Project/README.md 'Ссылка на описание проекта')\n",
    "\n",
    "<br><br>"
   ]
  },
  {
   "cell_type": "markdown",
   "metadata": {},
   "source": [
    "---\n",
    "## [***`Описание исследуемого набора данных`***](#E-commerce)\n",
    "---\n",
    "\n",
    "Файлы:\n",
    "\n",
    "- **`olist_customers_datase.csv`** — таблица с уникальными идентификаторами пользователей\n",
    "\n",
    "**customer_id** — позаказный идентификатор пользователя\n",
    "\n",
    "**customer_unique_id** —  уникальный идентификатор пользователя  (аналог номера паспорта)\n",
    "\n",
    "**customer_zip_code_prefix** —  почтовый индекс пользователя\n",
    "\n",
    "**customer_city** —  город доставки пользователя\n",
    "\n",
    "**customer_state** —  штат доставки пользователя\n",
    "\n",
    "\n",
    "- **`olist_orders_dataset.csv`** —  таблица заказов\n",
    "\n",
    "\n",
    "**order_id** —  уникальный идентификатор заказа (номер чека)\n",
    "\n",
    "**customer_id** —  позаказный идентификатор пользователя\n",
    "\n",
    "**order_status** —  статус заказа\n",
    "\n",
    "**order_purchase_timestamp** —  время создания заказа\n",
    "\n",
    "**order_approved_at** —  время подтверждения оплаты заказа\n",
    "\n",
    "**order_delivered_carrier_date** —  время передачи заказа в логистическую службу\n",
    "\n",
    "**order_delivered_customer_date** —  время доставки заказа\n",
    "\n",
    "**order_estimated_delivery_date** —  обещанная дата доставки\n",
    "\n",
    "\n",
    "- **`olist_order_items_dataset.csv`** —  товарные позиции, входящие в заказы\n",
    "\n",
    "**order_id** —  уникальный идентификатор заказа (номер чека)\n",
    "\n",
    "**order_item_id** —  идентификатор товара внутри одного заказа\n",
    "\n",
    "**product_id** —  ид товара (аналог штрихкода)\n",
    "\n",
    "**seller_id** — ид производителя товара\n",
    "\n",
    "**shipping_limit_date** —  максимальная дата доставки продавцом для передачи заказа партнеру по логистике\n",
    "\n",
    "**price** —  цена за единицу товара\n",
    "\n",
    "**freight_value** —  вес товара\n",
    "\n",
    "<br>\n",
    "\n",
    "— Пример структуры данных можно визуализировать по order_id == 00143d0f86d6fbd9f9b38ab440ac16f5\n",
    "\n",
    "\n",
    "Уникальные статусы заказов в таблице **`olist_orders_dataset`**:\n",
    "\n",
    "- created —  создан\n",
    "- approved —  подтверждён\n",
    "- invoiced —  выставлен счёт\n",
    "- processing —  в процессе сборки заказа\n",
    "- shipped —  отгружен со склада\n",
    "- delivered —  доставлен пользователю\n",
    "- unavailable —  недоступен\n",
    "- canceled —  отменён"
   ]
  },
  {
   "cell_type": "markdown",
   "metadata": {
    "tags": []
   },
   "source": [
    "---\n",
    "## [***`Подготовительный этап`***](#E-commerce)\n",
    "---"
   ]
  },
  {
   "cell_type": "code",
   "execution_count": 4,
   "metadata": {
    "tags": []
   },
   "outputs": [],
   "source": [
    "import pandas  as pd\n",
    "import numpy   as np\n",
    "import seaborn as sns\n",
    "import matplotlib.pyplot as plt\n",
    "\n",
    "from datetime import timedelta\n",
    "\n",
    "sns.set_style(\"whitegrid\")\n",
    "pd.options.mode.chained_assignment = None"
   ]
  },
  {
   "cell_type": "code",
   "execution_count": 5,
   "metadata": {
    "tags": []
   },
   "outputs": [],
   "source": [
    "Path = 'C:/Users/volod/YandexDisk/JupyterLab/GitHub/karpov_courses/Interim_Project/' "
   ]
  },
  {
   "cell_type": "code",
   "execution_count": 6,
   "metadata": {
    "tags": []
   },
   "outputs": [],
   "source": [
    "customers = pd.read_csv(Path + 'olist_customers_dataset.csv')\n",
    "orders    = pd.read_csv(Path + 'olist_orders_dataset.csv')\n",
    "items     = pd.read_csv(Path + 'olist_order_items_dataset.csv')"
   ]
  },
  {
   "cell_type": "code",
   "execution_count": 7,
   "metadata": {
    "tags": []
   },
   "outputs": [
    {
     "name": "stdout",
     "output_type": "stream",
     "text": [
      "<class 'pandas.core.frame.DataFrame'>\n",
      "RangeIndex: 99441 entries, 0 to 99440\n",
      "Data columns (total 5 columns):\n",
      " #   Column                    Non-Null Count  Dtype \n",
      "---  ------                    --------------  ----- \n",
      " 0   customer_id               99441 non-null  object\n",
      " 1   customer_unique_id        99441 non-null  object\n",
      " 2   customer_zip_code_prefix  99441 non-null  int64 \n",
      " 3   customer_city             99441 non-null  object\n",
      " 4   customer_state            99441 non-null  object\n",
      "dtypes: int64(1), object(4)\n",
      "memory usage: 3.8+ MB\n"
     ]
    }
   ],
   "source": [
    "customers.info() #краткая информация по датасетам"
   ]
  },
  {
   "cell_type": "code",
   "execution_count": 8,
   "metadata": {
    "tags": []
   },
   "outputs": [
    {
     "name": "stdout",
     "output_type": "stream",
     "text": [
      "<class 'pandas.core.frame.DataFrame'>\n",
      "RangeIndex: 99441 entries, 0 to 99440\n",
      "Data columns (total 8 columns):\n",
      " #   Column                         Non-Null Count  Dtype \n",
      "---  ------                         --------------  ----- \n",
      " 0   order_id                       99441 non-null  object\n",
      " 1   customer_id                    99441 non-null  object\n",
      " 2   order_status                   99441 non-null  object\n",
      " 3   order_purchase_timestamp       99441 non-null  object\n",
      " 4   order_approved_at              99281 non-null  object\n",
      " 5   order_delivered_carrier_date   97658 non-null  object\n",
      " 6   order_delivered_customer_date  96476 non-null  object\n",
      " 7   order_estimated_delivery_date  99441 non-null  object\n",
      "dtypes: object(8)\n",
      "memory usage: 6.1+ MB\n"
     ]
    }
   ],
   "source": [
    "orders.info()"
   ]
  },
  {
   "cell_type": "code",
   "execution_count": 9,
   "metadata": {
    "tags": []
   },
   "outputs": [
    {
     "name": "stdout",
     "output_type": "stream",
     "text": [
      "<class 'pandas.core.frame.DataFrame'>\n",
      "RangeIndex: 112650 entries, 0 to 112649\n",
      "Data columns (total 7 columns):\n",
      " #   Column               Non-Null Count   Dtype  \n",
      "---  ------               --------------   -----  \n",
      " 0   order_id             112650 non-null  object \n",
      " 1   order_item_id        112650 non-null  int64  \n",
      " 2   product_id           112650 non-null  object \n",
      " 3   seller_id            112650 non-null  object \n",
      " 4   shipping_limit_date  112650 non-null  object \n",
      " 5   price                112650 non-null  float64\n",
      " 6   freight_value        112650 non-null  float64\n",
      "dtypes: float64(2), int64(1), object(4)\n",
      "memory usage: 6.0+ MB\n"
     ]
    }
   ],
   "source": [
    "items.info()"
   ]
  },
  {
   "cell_type": "markdown",
   "metadata": {},
   "source": [
    "В таблице `orders` присутствуют пропуски."
   ]
  },
  {
   "cell_type": "code",
   "execution_count": 10,
   "metadata": {
    "tags": []
   },
   "outputs": [
    {
     "data": {
      "text/plain": [
       "order_id                            0\n",
       "customer_id                         0\n",
       "order_status                        0\n",
       "order_purchase_timestamp            0\n",
       "order_approved_at                 160\n",
       "order_delivered_carrier_date     1783\n",
       "order_delivered_customer_date    2965\n",
       "order_estimated_delivery_date       0\n",
       "dtype: int64"
      ]
     },
     "execution_count": 10,
     "metadata": {},
     "output_type": "execute_result"
    }
   ],
   "source": [
    "# количество пропущенных значений по каждому столбцу в таблице `orders`\n",
    "\n",
    "orders.isna().sum()"
   ]
  },
  {
   "cell_type": "code",
   "execution_count": 11,
   "metadata": {
    "tags": []
   },
   "outputs": [
    {
     "data": {
      "text/plain": [
       "(0, 0, 0)"
      ]
     },
     "execution_count": 11,
     "metadata": {},
     "output_type": "execute_result"
    }
   ],
   "source": [
    "# Количество строк-дубликатов в каждом датасете\n",
    "\n",
    "(customers[customers.duplicated()].shape[0], \n",
    " orders   [orders.duplicated()].shape[0],    \n",
    " items    [items.duplicated()].shape[0])"
   ]
  },
  {
   "cell_type": "markdown",
   "metadata": {},
   "source": [
    "***После изучения представленных датасетов, осмысления описания колонок и понимания того, как устроены данные в них, выделяется следующее:***\n",
    "\n",
    "- Отсутствие дубликатов;\n",
    "- Пропуски наблюдаются только таблице `orders`;\n",
    "- Общий ключ для объединения таблиц `customers` и `orders`, либо `orders` и `items`;\n",
    "- Столбцы с датой имеют тип **object**, что не позволит корректно проводить вычислительные операции.\n",
    "<br><br>\n",
    "\n",
    "    Проанализировав наблюдения собираюсь объединить датасеты в один датафрейм, перевести столбцы с датой в формат date, а также подробно изучить пропуски и описать их взаимосвязь. Есть предположение, что они связаны со статусом заказа, но при объединении датасетов могут проявиться и другие факторы."
   ]
  },
  {
   "cell_type": "code",
   "execution_count": 12,
   "metadata": {
    "tags": []
   },
   "outputs": [
    {
     "data": {
      "text/html": [
       "<div>\n",
       "<style scoped>\n",
       "    .dataframe tbody tr th:only-of-type {\n",
       "        vertical-align: middle;\n",
       "    }\n",
       "\n",
       "    .dataframe tbody tr th {\n",
       "        vertical-align: top;\n",
       "    }\n",
       "\n",
       "    .dataframe thead th {\n",
       "        text-align: right;\n",
       "    }\n",
       "</style>\n",
       "<table border=\"1\" class=\"dataframe\">\n",
       "  <thead>\n",
       "    <tr style=\"text-align: right;\">\n",
       "      <th></th>\n",
       "      <th>customer_id</th>\n",
       "      <th>customer_unique_id</th>\n",
       "      <th>customer_zip_code_prefix</th>\n",
       "      <th>customer_city</th>\n",
       "      <th>customer_state</th>\n",
       "      <th>order_id</th>\n",
       "      <th>order_status</th>\n",
       "      <th>order_purchase_timestamp</th>\n",
       "      <th>order_approved_at</th>\n",
       "      <th>order_delivered_carrier_date</th>\n",
       "      <th>order_delivered_customer_date</th>\n",
       "      <th>order_estimated_delivery_date</th>\n",
       "    </tr>\n",
       "  </thead>\n",
       "  <tbody>\n",
       "    <tr>\n",
       "      <th>0</th>\n",
       "      <td>06b8999e2fba1a1fbc88172c00ba8bc7</td>\n",
       "      <td>861eff4711a542e4b93843c6dd7febb0</td>\n",
       "      <td>14409</td>\n",
       "      <td>franca</td>\n",
       "      <td>SP</td>\n",
       "      <td>00e7ee1b050b8499577073aeb2a297a1</td>\n",
       "      <td>delivered</td>\n",
       "      <td>2017-05-16 15:05:35</td>\n",
       "      <td>2017-05-16 15:22:12</td>\n",
       "      <td>2017-05-23 10:47:57</td>\n",
       "      <td>2017-05-25 10:35:35</td>\n",
       "      <td>2017-06-05 00:00:00</td>\n",
       "    </tr>\n",
       "    <tr>\n",
       "      <th>1</th>\n",
       "      <td>18955e83d337fd6b2def6b18a428ac77</td>\n",
       "      <td>290c77bc529b7ac935b93aa66c333dc3</td>\n",
       "      <td>9790</td>\n",
       "      <td>sao bernardo do campo</td>\n",
       "      <td>SP</td>\n",
       "      <td>29150127e6685892b6eab3eec79f59c7</td>\n",
       "      <td>delivered</td>\n",
       "      <td>2018-01-12 20:48:24</td>\n",
       "      <td>2018-01-12 20:58:32</td>\n",
       "      <td>2018-01-15 17:14:59</td>\n",
       "      <td>2018-01-29 12:41:19</td>\n",
       "      <td>2018-02-06 00:00:00</td>\n",
       "    </tr>\n",
       "    <tr>\n",
       "      <th>2</th>\n",
       "      <td>4e7b3e00288586ebd08712fdd0374a03</td>\n",
       "      <td>060e732b5b29e8181a18229c7b0b2b5e</td>\n",
       "      <td>1151</td>\n",
       "      <td>sao paulo</td>\n",
       "      <td>SP</td>\n",
       "      <td>b2059ed67ce144a36e2aa97d2c9e9ad2</td>\n",
       "      <td>delivered</td>\n",
       "      <td>2018-05-19 16:07:45</td>\n",
       "      <td>2018-05-20 16:19:10</td>\n",
       "      <td>2018-06-11 14:31:00</td>\n",
       "      <td>2018-06-14 17:58:51</td>\n",
       "      <td>2018-06-13 00:00:00</td>\n",
       "    </tr>\n",
       "    <tr>\n",
       "      <th>3</th>\n",
       "      <td>b2b6027bc5c5109e529d4dc6358b12c3</td>\n",
       "      <td>259dac757896d24d7702b9acbbff3f3c</td>\n",
       "      <td>8775</td>\n",
       "      <td>mogi das cruzes</td>\n",
       "      <td>SP</td>\n",
       "      <td>951670f92359f4fe4a63112aa7306eba</td>\n",
       "      <td>delivered</td>\n",
       "      <td>2018-03-13 16:06:38</td>\n",
       "      <td>2018-03-13 17:29:19</td>\n",
       "      <td>2018-03-27 23:22:42</td>\n",
       "      <td>2018-03-28 16:04:25</td>\n",
       "      <td>2018-04-10 00:00:00</td>\n",
       "    </tr>\n",
       "    <tr>\n",
       "      <th>4</th>\n",
       "      <td>4f2d8ab171c80ec8364f7c12e35b23ad</td>\n",
       "      <td>345ecd01c38d18a9036ed96c73b8d066</td>\n",
       "      <td>13056</td>\n",
       "      <td>campinas</td>\n",
       "      <td>SP</td>\n",
       "      <td>6b7d50bd145f6fc7f33cebabd7e49d0f</td>\n",
       "      <td>delivered</td>\n",
       "      <td>2018-07-29 09:51:30</td>\n",
       "      <td>2018-07-29 10:10:09</td>\n",
       "      <td>2018-07-30 15:16:00</td>\n",
       "      <td>2018-08-09 20:55:48</td>\n",
       "      <td>2018-08-15 00:00:00</td>\n",
       "    </tr>\n",
       "  </tbody>\n",
       "</table>\n",
       "</div>"
      ],
      "text/plain": [
       "                        customer_id                customer_unique_id  \\\n",
       "0  06b8999e2fba1a1fbc88172c00ba8bc7  861eff4711a542e4b93843c6dd7febb0   \n",
       "1  18955e83d337fd6b2def6b18a428ac77  290c77bc529b7ac935b93aa66c333dc3   \n",
       "2  4e7b3e00288586ebd08712fdd0374a03  060e732b5b29e8181a18229c7b0b2b5e   \n",
       "3  b2b6027bc5c5109e529d4dc6358b12c3  259dac757896d24d7702b9acbbff3f3c   \n",
       "4  4f2d8ab171c80ec8364f7c12e35b23ad  345ecd01c38d18a9036ed96c73b8d066   \n",
       "\n",
       "   customer_zip_code_prefix          customer_city customer_state  \\\n",
       "0                     14409                 franca             SP   \n",
       "1                      9790  sao bernardo do campo             SP   \n",
       "2                      1151              sao paulo             SP   \n",
       "3                      8775        mogi das cruzes             SP   \n",
       "4                     13056               campinas             SP   \n",
       "\n",
       "                           order_id order_status order_purchase_timestamp  \\\n",
       "0  00e7ee1b050b8499577073aeb2a297a1    delivered      2017-05-16 15:05:35   \n",
       "1  29150127e6685892b6eab3eec79f59c7    delivered      2018-01-12 20:48:24   \n",
       "2  b2059ed67ce144a36e2aa97d2c9e9ad2    delivered      2018-05-19 16:07:45   \n",
       "3  951670f92359f4fe4a63112aa7306eba    delivered      2018-03-13 16:06:38   \n",
       "4  6b7d50bd145f6fc7f33cebabd7e49d0f    delivered      2018-07-29 09:51:30   \n",
       "\n",
       "     order_approved_at order_delivered_carrier_date  \\\n",
       "0  2017-05-16 15:22:12          2017-05-23 10:47:57   \n",
       "1  2018-01-12 20:58:32          2018-01-15 17:14:59   \n",
       "2  2018-05-20 16:19:10          2018-06-11 14:31:00   \n",
       "3  2018-03-13 17:29:19          2018-03-27 23:22:42   \n",
       "4  2018-07-29 10:10:09          2018-07-30 15:16:00   \n",
       "\n",
       "  order_delivered_customer_date order_estimated_delivery_date  \n",
       "0           2017-05-25 10:35:35           2017-06-05 00:00:00  \n",
       "1           2018-01-29 12:41:19           2018-02-06 00:00:00  \n",
       "2           2018-06-14 17:58:51           2018-06-13 00:00:00  \n",
       "3           2018-03-28 16:04:25           2018-04-10 00:00:00  \n",
       "4           2018-08-09 20:55:48           2018-08-15 00:00:00  "
      ]
     },
     "execution_count": 12,
     "metadata": {},
     "output_type": "execute_result"
    }
   ],
   "source": [
    "# объединяю датасеты `customers` и `orders` в один датафрейм\n",
    "\n",
    "df = customers.merge(orders, on='customer_id')\n",
    "df.head()"
   ]
  },
  {
   "cell_type": "code",
   "execution_count": 13,
   "metadata": {
    "tags": []
   },
   "outputs": [
    {
     "data": {
      "text/html": [
       "<div>\n",
       "<style scoped>\n",
       "    .dataframe tbody tr th:only-of-type {\n",
       "        vertical-align: middle;\n",
       "    }\n",
       "\n",
       "    .dataframe tbody tr th {\n",
       "        vertical-align: top;\n",
       "    }\n",
       "\n",
       "    .dataframe thead th {\n",
       "        text-align: right;\n",
       "    }\n",
       "</style>\n",
       "<table border=\"1\" class=\"dataframe\">\n",
       "  <thead>\n",
       "    <tr style=\"text-align: right;\">\n",
       "      <th></th>\n",
       "      <th>customer_id</th>\n",
       "      <th>customer_unique_id</th>\n",
       "      <th>customer_zip_code_prefix</th>\n",
       "      <th>customer_city</th>\n",
       "      <th>customer_state</th>\n",
       "      <th>order_id</th>\n",
       "      <th>order_status</th>\n",
       "      <th>order_purchase_timestamp</th>\n",
       "      <th>order_approved_at</th>\n",
       "      <th>order_delivered_carrier_date</th>\n",
       "      <th>order_delivered_customer_date</th>\n",
       "      <th>order_estimated_delivery_date</th>\n",
       "      <th>order_item_id</th>\n",
       "      <th>product_id</th>\n",
       "      <th>seller_id</th>\n",
       "      <th>shipping_limit_date</th>\n",
       "      <th>price</th>\n",
       "      <th>freight_value</th>\n",
       "    </tr>\n",
       "  </thead>\n",
       "  <tbody>\n",
       "    <tr>\n",
       "      <th>0</th>\n",
       "      <td>06b8999e2fba1a1fbc88172c00ba8bc7</td>\n",
       "      <td>861eff4711a542e4b93843c6dd7febb0</td>\n",
       "      <td>14409</td>\n",
       "      <td>franca</td>\n",
       "      <td>SP</td>\n",
       "      <td>00e7ee1b050b8499577073aeb2a297a1</td>\n",
       "      <td>delivered</td>\n",
       "      <td>2017-05-16 15:05:35</td>\n",
       "      <td>2017-05-16 15:22:12</td>\n",
       "      <td>2017-05-23 10:47:57</td>\n",
       "      <td>2017-05-25 10:35:35</td>\n",
       "      <td>2017-06-05 00:00:00</td>\n",
       "      <td>1.0</td>\n",
       "      <td>a9516a079e37a9c9c36b9b78b10169e8</td>\n",
       "      <td>7c67e1448b00f6e969d365cea6b010ab</td>\n",
       "      <td>2017-05-22 15:22:12</td>\n",
       "      <td>124.99</td>\n",
       "      <td>21.88</td>\n",
       "    </tr>\n",
       "    <tr>\n",
       "      <th>1</th>\n",
       "      <td>18955e83d337fd6b2def6b18a428ac77</td>\n",
       "      <td>290c77bc529b7ac935b93aa66c333dc3</td>\n",
       "      <td>9790</td>\n",
       "      <td>sao bernardo do campo</td>\n",
       "      <td>SP</td>\n",
       "      <td>29150127e6685892b6eab3eec79f59c7</td>\n",
       "      <td>delivered</td>\n",
       "      <td>2018-01-12 20:48:24</td>\n",
       "      <td>2018-01-12 20:58:32</td>\n",
       "      <td>2018-01-15 17:14:59</td>\n",
       "      <td>2018-01-29 12:41:19</td>\n",
       "      <td>2018-02-06 00:00:00</td>\n",
       "      <td>1.0</td>\n",
       "      <td>4aa6014eceb682077f9dc4bffebc05b0</td>\n",
       "      <td>b8bc237ba3788b23da09c0f1f3a3288c</td>\n",
       "      <td>2018-01-18 20:58:32</td>\n",
       "      <td>289.00</td>\n",
       "      <td>46.48</td>\n",
       "    </tr>\n",
       "    <tr>\n",
       "      <th>2</th>\n",
       "      <td>4e7b3e00288586ebd08712fdd0374a03</td>\n",
       "      <td>060e732b5b29e8181a18229c7b0b2b5e</td>\n",
       "      <td>1151</td>\n",
       "      <td>sao paulo</td>\n",
       "      <td>SP</td>\n",
       "      <td>b2059ed67ce144a36e2aa97d2c9e9ad2</td>\n",
       "      <td>delivered</td>\n",
       "      <td>2018-05-19 16:07:45</td>\n",
       "      <td>2018-05-20 16:19:10</td>\n",
       "      <td>2018-06-11 14:31:00</td>\n",
       "      <td>2018-06-14 17:58:51</td>\n",
       "      <td>2018-06-13 00:00:00</td>\n",
       "      <td>1.0</td>\n",
       "      <td>bd07b66896d6f1494f5b86251848ced7</td>\n",
       "      <td>7c67e1448b00f6e969d365cea6b010ab</td>\n",
       "      <td>2018-06-05 16:19:10</td>\n",
       "      <td>139.94</td>\n",
       "      <td>17.79</td>\n",
       "    </tr>\n",
       "    <tr>\n",
       "      <th>3</th>\n",
       "      <td>b2b6027bc5c5109e529d4dc6358b12c3</td>\n",
       "      <td>259dac757896d24d7702b9acbbff3f3c</td>\n",
       "      <td>8775</td>\n",
       "      <td>mogi das cruzes</td>\n",
       "      <td>SP</td>\n",
       "      <td>951670f92359f4fe4a63112aa7306eba</td>\n",
       "      <td>delivered</td>\n",
       "      <td>2018-03-13 16:06:38</td>\n",
       "      <td>2018-03-13 17:29:19</td>\n",
       "      <td>2018-03-27 23:22:42</td>\n",
       "      <td>2018-03-28 16:04:25</td>\n",
       "      <td>2018-04-10 00:00:00</td>\n",
       "      <td>1.0</td>\n",
       "      <td>a5647c44af977b148e0a3a4751a09e2e</td>\n",
       "      <td>7c67e1448b00f6e969d365cea6b010ab</td>\n",
       "      <td>2018-03-27 16:31:16</td>\n",
       "      <td>149.94</td>\n",
       "      <td>23.36</td>\n",
       "    </tr>\n",
       "    <tr>\n",
       "      <th>4</th>\n",
       "      <td>4f2d8ab171c80ec8364f7c12e35b23ad</td>\n",
       "      <td>345ecd01c38d18a9036ed96c73b8d066</td>\n",
       "      <td>13056</td>\n",
       "      <td>campinas</td>\n",
       "      <td>SP</td>\n",
       "      <td>6b7d50bd145f6fc7f33cebabd7e49d0f</td>\n",
       "      <td>delivered</td>\n",
       "      <td>2018-07-29 09:51:30</td>\n",
       "      <td>2018-07-29 10:10:09</td>\n",
       "      <td>2018-07-30 15:16:00</td>\n",
       "      <td>2018-08-09 20:55:48</td>\n",
       "      <td>2018-08-15 00:00:00</td>\n",
       "      <td>1.0</td>\n",
       "      <td>9391a573abe00141c56e38d84d7d5b3b</td>\n",
       "      <td>4a3ca9315b744ce9f8e9374361493884</td>\n",
       "      <td>2018-07-31 10:10:09</td>\n",
       "      <td>230.00</td>\n",
       "      <td>22.25</td>\n",
       "    </tr>\n",
       "  </tbody>\n",
       "</table>\n",
       "</div>"
      ],
      "text/plain": [
       "                        customer_id                customer_unique_id  \\\n",
       "0  06b8999e2fba1a1fbc88172c00ba8bc7  861eff4711a542e4b93843c6dd7febb0   \n",
       "1  18955e83d337fd6b2def6b18a428ac77  290c77bc529b7ac935b93aa66c333dc3   \n",
       "2  4e7b3e00288586ebd08712fdd0374a03  060e732b5b29e8181a18229c7b0b2b5e   \n",
       "3  b2b6027bc5c5109e529d4dc6358b12c3  259dac757896d24d7702b9acbbff3f3c   \n",
       "4  4f2d8ab171c80ec8364f7c12e35b23ad  345ecd01c38d18a9036ed96c73b8d066   \n",
       "\n",
       "   customer_zip_code_prefix          customer_city customer_state  \\\n",
       "0                     14409                 franca             SP   \n",
       "1                      9790  sao bernardo do campo             SP   \n",
       "2                      1151              sao paulo             SP   \n",
       "3                      8775        mogi das cruzes             SP   \n",
       "4                     13056               campinas             SP   \n",
       "\n",
       "                           order_id order_status order_purchase_timestamp  \\\n",
       "0  00e7ee1b050b8499577073aeb2a297a1    delivered      2017-05-16 15:05:35   \n",
       "1  29150127e6685892b6eab3eec79f59c7    delivered      2018-01-12 20:48:24   \n",
       "2  b2059ed67ce144a36e2aa97d2c9e9ad2    delivered      2018-05-19 16:07:45   \n",
       "3  951670f92359f4fe4a63112aa7306eba    delivered      2018-03-13 16:06:38   \n",
       "4  6b7d50bd145f6fc7f33cebabd7e49d0f    delivered      2018-07-29 09:51:30   \n",
       "\n",
       "     order_approved_at order_delivered_carrier_date  \\\n",
       "0  2017-05-16 15:22:12          2017-05-23 10:47:57   \n",
       "1  2018-01-12 20:58:32          2018-01-15 17:14:59   \n",
       "2  2018-05-20 16:19:10          2018-06-11 14:31:00   \n",
       "3  2018-03-13 17:29:19          2018-03-27 23:22:42   \n",
       "4  2018-07-29 10:10:09          2018-07-30 15:16:00   \n",
       "\n",
       "  order_delivered_customer_date order_estimated_delivery_date  order_item_id  \\\n",
       "0           2017-05-25 10:35:35           2017-06-05 00:00:00            1.0   \n",
       "1           2018-01-29 12:41:19           2018-02-06 00:00:00            1.0   \n",
       "2           2018-06-14 17:58:51           2018-06-13 00:00:00            1.0   \n",
       "3           2018-03-28 16:04:25           2018-04-10 00:00:00            1.0   \n",
       "4           2018-08-09 20:55:48           2018-08-15 00:00:00            1.0   \n",
       "\n",
       "                         product_id                         seller_id  \\\n",
       "0  a9516a079e37a9c9c36b9b78b10169e8  7c67e1448b00f6e969d365cea6b010ab   \n",
       "1  4aa6014eceb682077f9dc4bffebc05b0  b8bc237ba3788b23da09c0f1f3a3288c   \n",
       "2  bd07b66896d6f1494f5b86251848ced7  7c67e1448b00f6e969d365cea6b010ab   \n",
       "3  a5647c44af977b148e0a3a4751a09e2e  7c67e1448b00f6e969d365cea6b010ab   \n",
       "4  9391a573abe00141c56e38d84d7d5b3b  4a3ca9315b744ce9f8e9374361493884   \n",
       "\n",
       "   shipping_limit_date   price  freight_value  \n",
       "0  2017-05-22 15:22:12  124.99          21.88  \n",
       "1  2018-01-18 20:58:32  289.00          46.48  \n",
       "2  2018-06-05 16:19:10  139.94          17.79  \n",
       "3  2018-03-27 16:31:16  149.94          23.36  \n",
       "4  2018-07-31 10:10:09  230.00          22.25  "
      ]
     },
     "execution_count": 13,
     "metadata": {},
     "output_type": "execute_result"
    }
   ],
   "source": [
    "# объединяю получившийся датафрейм с датасетом `items` \n",
    "\n",
    "result_df = df.merge(items, on='order_id', how='left')\n",
    "result_df.head()"
   ]
  },
  {
   "cell_type": "code",
   "execution_count": 14,
   "metadata": {
    "tags": []
   },
   "outputs": [],
   "source": [
    "# список колонок содержащих дату и время для преобразования в тип datetime\n",
    "\n",
    "dates_list = ['order_purchase_timestamp', 'order_approved_at', \n",
    "              'order_delivered_carrier_date','order_delivered_customer_date', \n",
    "              'order_estimated_delivery_date', 'shipping_limit_date'\n",
    "             ]"
   ]
  },
  {
   "cell_type": "code",
   "execution_count": 15,
   "metadata": {
    "tags": []
   },
   "outputs": [],
   "source": [
    "# преобразования типов данных\n",
    "\n",
    "result_df[dates_list] = result_df[dates_list].apply(pd.to_datetime) "
   ]
  },
  {
   "cell_type": "code",
   "execution_count": 16,
   "metadata": {
    "tags": []
   },
   "outputs": [
    {
     "name": "stdout",
     "output_type": "stream",
     "text": [
      "<class 'pandas.core.frame.DataFrame'>\n",
      "Int64Index: 113425 entries, 0 to 113424\n",
      "Data columns (total 18 columns):\n",
      " #   Column                         Non-Null Count   Dtype         \n",
      "---  ------                         --------------   -----         \n",
      " 0   customer_id                    113425 non-null  object        \n",
      " 1   customer_unique_id             113425 non-null  object        \n",
      " 2   customer_zip_code_prefix       113425 non-null  int64         \n",
      " 3   customer_city                  113425 non-null  object        \n",
      " 4   customer_state                 113425 non-null  object        \n",
      " 5   order_id                       113425 non-null  object        \n",
      " 6   order_status                   113425 non-null  object        \n",
      " 7   order_purchase_timestamp       113425 non-null  datetime64[ns]\n",
      " 8   order_approved_at              113264 non-null  datetime64[ns]\n",
      " 9   order_delivered_carrier_date   111457 non-null  datetime64[ns]\n",
      " 10  order_delivered_customer_date  110196 non-null  datetime64[ns]\n",
      " 11  order_estimated_delivery_date  113425 non-null  datetime64[ns]\n",
      " 12  order_item_id                  112650 non-null  float64       \n",
      " 13  product_id                     112650 non-null  object        \n",
      " 14  seller_id                      112650 non-null  object        \n",
      " 15  shipping_limit_date            112650 non-null  datetime64[ns]\n",
      " 16  price                          112650 non-null  float64       \n",
      " 17  freight_value                  112650 non-null  float64       \n",
      "dtypes: datetime64[ns](6), float64(3), int64(1), object(8)\n",
      "memory usage: 16.4+ MB\n"
     ]
    }
   ],
   "source": [
    "# информация конечных преобразований датафрейма\n",
    "\n",
    "result_df.info() "
   ]
  },
  {
   "cell_type": "markdown",
   "metadata": {},
   "source": [
    "Полученный датафрейм имеет ещё больше пропущенных значений."
   ]
  },
  {
   "cell_type": "code",
   "execution_count": 17,
   "metadata": {
    "tags": []
   },
   "outputs": [
    {
     "data": {
      "text/plain": [
       "sao paulo         16.8\n",
       "rio de janeiro     9.0\n",
       "belo horizonte     2.5\n",
       "brasilia           2.0\n",
       "salvador           1.9\n",
       "Name: customer_city, dtype: float64"
      ]
     },
     "execution_count": 17,
     "metadata": {},
     "output_type": "execute_result"
    }
   ],
   "source": [
    "# топ 5 городов по количеству строк с пропущенными значениями в процентах \n",
    "\n",
    "result_df[result_df.isna().any(axis=1)]['customer_city'] \\\n",
    "         .value_counts(normalize=True).mul(100).round(1).head()"
   ]
  },
  {
   "cell_type": "code",
   "execution_count": 18,
   "metadata": {
    "scrolled": true,
    "tags": []
   },
   "outputs": [
    {
     "data": {
      "text/plain": [
       "sao paulo         15.8\n",
       "rio de janeiro     7.0\n",
       "belo horizonte     2.8\n",
       "brasilia           2.1\n",
       "curitiba           1.6\n",
       "Name: customer_city, dtype: float64"
      ]
     },
     "execution_count": 18,
     "metadata": {},
     "output_type": "execute_result"
    }
   ],
   "source": [
    "# топ 5 городов по количеству строк в процентах\n",
    "\n",
    "result_df['customer_city'].value_counts(normalize=True).mul(100).round(1).head()"
   ]
  },
  {
   "cell_type": "code",
   "execution_count": 19,
   "metadata": {
    "tags": []
   },
   "outputs": [
    {
     "data": {
      "text/plain": [
       "customer_city\n",
       "sao paulo         496\n",
       "rio de janeiro    279\n",
       "belo horizonte     76\n",
       "brasilia           60\n",
       "salvador           57\n",
       "Name: order_id, dtype: int64"
      ]
     },
     "execution_count": 19,
     "metadata": {},
     "output_type": "execute_result"
    }
   ],
   "source": [
    "# топ 5 городов по количеству заказов с пропущенными значениями \n",
    "\n",
    "result_df[result_df.isna().any(axis=1)].groupby('customer_city')['order_id'] \\\n",
    "                                       .nunique().sort_values(ascending=False).head()"
   ]
  },
  {
   "cell_type": "code",
   "execution_count": 20,
   "metadata": {
    "tags": []
   },
   "outputs": [
    {
     "data": {
      "text/plain": [
       "customer_city\n",
       "sao paulo         15540\n",
       "rio de janeiro     6882\n",
       "belo horizonte     2773\n",
       "brasilia           2131\n",
       "curitiba           1521\n",
       "Name: order_id, dtype: int64"
      ]
     },
     "execution_count": 20,
     "metadata": {},
     "output_type": "execute_result"
    }
   ],
   "source": [
    "# топ 5 городов по количеству заказов \n",
    "\n",
    "result_df.groupby('customer_city')['order_id'].nunique().sort_values(ascending=False).head()"
   ]
  },
  {
   "cell_type": "code",
   "execution_count": 21,
   "metadata": {
    "tags": []
   },
   "outputs": [
    {
     "data": {
      "text/plain": [
       "order_status\n",
       "shipped        1107\n",
       "canceled        619\n",
       "unavailable     609\n",
       "invoiced        314\n",
       "processing      301\n",
       "delivered        23\n",
       "created           5\n",
       "approved          2\n",
       "Name: order_id, dtype: int64"
      ]
     },
     "execution_count": 21,
     "metadata": {},
     "output_type": "execute_result"
    }
   ],
   "source": [
    "# распределение пропущенных значений в заказах в разрезе статуса заказа\n",
    "\n",
    "result_df[result_df.isna().any(axis=1)].groupby('order_status')['order_id'] \\\n",
    "                                       .nunique().sort_values(ascending=False)"
   ]
  },
  {
   "cell_type": "code",
   "execution_count": 22,
   "metadata": {
    "tags": []
   },
   "outputs": [
    {
     "data": {
      "text/plain": [
       "customer_id                         0\n",
       "customer_unique_id                  0\n",
       "customer_zip_code_prefix            0\n",
       "customer_city                       0\n",
       "customer_state                      0\n",
       "order_id                            0\n",
       "order_status                        0\n",
       "order_purchase_timestamp            0\n",
       "order_approved_at                 161\n",
       "order_delivered_carrier_date     1968\n",
       "order_delivered_customer_date    3229\n",
       "order_estimated_delivery_date       0\n",
       "order_item_id                     775\n",
       "product_id                        775\n",
       "seller_id                         775\n",
       "shipping_limit_date               775\n",
       "price                             775\n",
       "freight_value                     775\n",
       "dtype: int64"
      ]
     },
     "execution_count": 22,
     "metadata": {},
     "output_type": "execute_result"
    }
   ],
   "source": [
    "# количество пропущенных значений по каждому столбцу результирующей таблицы\n",
    "\n",
    "result_df.isna().sum() "
   ]
  },
  {
   "cell_type": "markdown",
   "metadata": {},
   "source": [
    "***При сопоставлении сформированных топов по городам и пропущенных значений в других разрезах, замечено что:***\n",
    "- Пропущенные значения связаны со статусом заказа;\n",
    "- Присутствует корреляция между предыдущими топами по городам;\n",
    "- Одинаковое количество пропущенных значений в некоторых столбцах зависит от статуса заказа;\n",
    "- Основная часть пропусков сосредоточены в столбцах с датой передачи заказа в логистическую службу и датой доставки клиенту.<br><br>\n",
    "\n",
    "\n",
    "    Всё это говорит о том, что чем больше у города заказов, тем больше у него пропущенных значений в таблице. <br> Единственное, что бросается в глаза – это 23 пропущенных значения со статусом заказа **delivered**. "
   ]
  },
  {
   "cell_type": "code",
   "execution_count": 23,
   "metadata": {
    "tags": []
   },
   "outputs": [
    {
     "data": {
      "text/plain": [
       "customer_state\n",
       "SP    1827.85\n",
       "RS     691.99\n",
       "MG     240.80\n",
       "RJ     177.99\n",
       "CE      79.99\n",
       "MA      79.99\n",
       "Name: price, dtype: float64"
      ]
     },
     "execution_count": 23,
     "metadata": {},
     "output_type": "execute_result"
    }
   ],
   "source": [
    "# сумма заказов имеющих статус заказа \"delivered\" с пропущенными значениями по штатам\n",
    "\n",
    "(result_df[result_df.isna().any(axis=1)].query('order_status==\"delivered\"')      \n",
    "                                        .groupby('customer_state')['price'].sum()\n",
    "                                        .sort_values(ascending=False)\n",
    ")"
   ]
  },
  {
   "cell_type": "code",
   "execution_count": 24,
   "metadata": {
    "tags": []
   },
   "outputs": [
    {
     "data": {
      "text/plain": [
       "customer_state\n",
       "SP    5067633.16\n",
       "RJ    1759651.13\n",
       "MG    1552481.83\n",
       "RS     728897.47\n",
       "PR     666063.51\n",
       "Name: price, dtype: float64"
      ]
     },
     "execution_count": 24,
     "metadata": {},
     "output_type": "execute_result"
    }
   ],
   "source": [
    "# сумма заказов имеющих статус заказа \"delivered\" без пропущенных значений по штатам\n",
    "\n",
    "(result_df[result_df.notna().any(axis=1)].query('order_status==\"delivered\"')      \n",
    "                                         .groupby('customer_state')['price'].sum()\n",
    "                                         .sort_values(ascending=False).head()\n",
    ")"
   ]
  },
  {
   "cell_type": "markdown",
   "metadata": {},
   "source": [
    "Информация в датафрейме не раскрывает причину присутствия пропусков в заказах со статусом **delivered**.<br>\n",
    "Но поскольку суммы этих заказов по штатам совсем не значительны,<br> \n",
    "стоит удалить эти заказы из таблицы, как наличие ошибки при сборе данных."
   ]
  },
  {
   "cell_type": "code",
   "execution_count": 25,
   "metadata": {
    "tags": []
   },
   "outputs": [],
   "source": [
    "# создаю переменную с 'order_id', в которых присутвсвуют пропущенные значения\n",
    "\n",
    "error_orders = result_df[result_df.isna().any(axis=1)] \\\n",
    "                        .loc[result_df.order_status == 'delivered']['order_id']"
   ]
  },
  {
   "cell_type": "code",
   "execution_count": 26,
   "metadata": {
    "tags": []
   },
   "outputs": [],
   "source": [
    "# удаляю эти сроки из датафрейма\n",
    "\n",
    "result_df = result_df.query('order_id not in @error_orders') "
   ]
  },
  {
   "cell_type": "markdown",
   "metadata": {},
   "source": [
    "Перед тем как приступить к решению заданий, стоит проверить отрицательную разницу во времени между созданием заказа и последующих операций, а именно время оплаты, передачи в логистику и конечной доставки. Время создания заказа – это начальное звено в цепочке процессов и разница с остальными операциями не будет отрицательной. Подобные заказы искажают результаты в решении заданий, а значит стоит заранее от них избавиться. Помимо этого стоит учитывать отрицательную разницу во времени между передачей заказа в логистику и доставки до клиента, так как сначала происходит первое, а не наоборот. Разницу во времени будем измерять в секундах. \n",
    "\n",
    "Также не оговорено в какой период происходит оплата между созданием заказа и доставки до клиента. Будем считать, что это происходит в любое время с начала создания заказа, но не позже доставки клиенту."
   ]
  },
  {
   "cell_type": "code",
   "execution_count": 27,
   "metadata": {
    "tags": []
   },
   "outputs": [
    {
     "data": {
      "text/plain": [
       "0.0"
      ]
     },
     "execution_count": 27,
     "metadata": {},
     "output_type": "execute_result"
    }
   ],
   "source": [
    "# минимальное время между созданием заказа и оплатой\n",
    "\n",
    "(result_df.order_approved_at - result_df.order_purchase_timestamp) \\\n",
    ".dropna().dt.total_seconds().min()"
   ]
  },
  {
   "cell_type": "code",
   "execution_count": 28,
   "metadata": {
    "tags": []
   },
   "outputs": [
    {
     "data": {
      "text/plain": [
       "-14792753.0"
      ]
     },
     "execution_count": 28,
     "metadata": {},
     "output_type": "execute_result"
    }
   ],
   "source": [
    "# минимальное время между созданием заказа и передачи в логистику\n",
    "\n",
    "(result_df.order_delivered_carrier_date - result_df.order_purchase_timestamp) \\\n",
    ".dropna().dt.total_seconds().min()"
   ]
  },
  {
   "cell_type": "markdown",
   "metadata": {},
   "source": [
    "Получили отрицательное значение, значит нужно изучить это более подробно и избавиться ошибок в данных."
   ]
  },
  {
   "cell_type": "code",
   "execution_count": 29,
   "metadata": {
    "tags": []
   },
   "outputs": [],
   "source": [
    "# создаю переменную для дальнейших расчётов\n",
    "\n",
    "time_diff = (result_df.order_delivered_carrier_date - result_df.order_purchase_timestamp) \\\n",
    "            .dropna().dt.total_seconds()"
   ]
  },
  {
   "cell_type": "code",
   "execution_count": 30,
   "metadata": {
    "tags": []
   },
   "outputs": [
    {
     "data": {
      "text/plain": [
       "187"
      ]
     },
     "execution_count": 30,
     "metadata": {},
     "output_type": "execute_result"
    }
   ],
   "source": [
    "# количество отрицательных значений\n",
    "\n",
    "time_diff.loc[lambda x : x < 0].count()"
   ]
  },
  {
   "cell_type": "code",
   "execution_count": 31,
   "metadata": {
    "tags": []
   },
   "outputs": [],
   "source": [
    "# создаю переменную номерами индексов отрицательных значений\n",
    "\n",
    "time_errors = time_diff.loc[lambda x : x < 0].index"
   ]
  },
  {
   "cell_type": "code",
   "execution_count": 32,
   "metadata": {
    "tags": []
   },
   "outputs": [],
   "source": [
    "# удаляю строки с полученными индексами из таблицы \n",
    "\n",
    "result_df = result_df[~result_df.index.isin (time_errors)]"
   ]
  },
  {
   "cell_type": "code",
   "execution_count": 33,
   "metadata": {
    "tags": []
   },
   "outputs": [
    {
     "data": {
      "text/plain": [
       "46087.0"
      ]
     },
     "execution_count": 33,
     "metadata": {},
     "output_type": "execute_result"
    }
   ],
   "source": [
    "# минимальное время между созданием заказа и доставки до клиента\n",
    "\n",
    "(result_df.order_delivered_customer_date - result_df.order_purchase_timestamp) \\\n",
    ".dropna().dt.total_seconds().min()"
   ]
  },
  {
   "cell_type": "markdown",
   "metadata": {},
   "source": [
    "Проверка разницы во времени создания заказа и дальнейших операций с ним окончена. Проверяем то же между временем передачи заказа в логистику и доставки до клиента."
   ]
  },
  {
   "cell_type": "code",
   "execution_count": 34,
   "metadata": {
    "tags": []
   },
   "outputs": [
    {
     "data": {
      "text/plain": [
       "-1390709.0"
      ]
     },
     "execution_count": 34,
     "metadata": {},
     "output_type": "execute_result"
    }
   ],
   "source": [
    "# минимальное время междупередачей заказа в логистику и доставки до клиента\n",
    "\n",
    "(result_df.order_delivered_customer_date - result_df.order_delivered_carrier_date) \\\n",
    ".dropna().dt.total_seconds().min()"
   ]
  },
  {
   "cell_type": "markdown",
   "metadata": {},
   "source": [
    "Отрицательное значение. Действуем по аналогии."
   ]
  },
  {
   "cell_type": "code",
   "execution_count": 35,
   "metadata": {
    "tags": []
   },
   "outputs": [],
   "source": [
    "time_diff1 = (result_df.order_delivered_customer_date - result_df.order_delivered_carrier_date) \\\n",
    "             .dropna().dt.total_seconds()"
   ]
  },
  {
   "cell_type": "code",
   "execution_count": 36,
   "metadata": {
    "tags": []
   },
   "outputs": [
    {
     "data": {
      "text/plain": [
       "50"
      ]
     },
     "execution_count": 36,
     "metadata": {},
     "output_type": "execute_result"
    }
   ],
   "source": [
    "# количество отрицательных значений\n",
    "\n",
    "time_diff1.loc[lambda x : x < 0].count()"
   ]
  },
  {
   "cell_type": "code",
   "execution_count": 37,
   "metadata": {
    "tags": []
   },
   "outputs": [],
   "source": [
    "time_errors1 = time_diff1.loc[lambda x : x < 0].index"
   ]
  },
  {
   "cell_type": "code",
   "execution_count": 38,
   "metadata": {
    "tags": []
   },
   "outputs": [],
   "source": [
    "result_df = result_df[~result_df.index.isin (time_errors1)]"
   ]
  },
  {
   "cell_type": "markdown",
   "metadata": {},
   "source": [
    "Осталось проверить разницу во времени между оплатой заказа и доставки до клиента."
   ]
  },
  {
   "cell_type": "code",
   "execution_count": 39,
   "metadata": {
    "scrolled": true,
    "tags": []
   },
   "outputs": [
    {
     "data": {
      "text/plain": [
       "-603906.0"
      ]
     },
     "execution_count": 39,
     "metadata": {},
     "output_type": "execute_result"
    }
   ],
   "source": [
    "# минимальное время между оплатой заказа и доставки до клиента.\n",
    "(result_df.order_delivered_customer_date - result_df.order_approved_at) \\\n",
    ".dropna().dt.total_seconds().min()"
   ]
  },
  {
   "cell_type": "markdown",
   "metadata": {},
   "source": [
    "Отрицательное значение. Действуем тем же способом."
   ]
  },
  {
   "cell_type": "code",
   "execution_count": 40,
   "metadata": {
    "tags": []
   },
   "outputs": [],
   "source": [
    "time_diff2 = (result_df.order_delivered_customer_date - result_df.order_approved_at) \\\n",
    "             .dropna().dt.total_seconds()"
   ]
  },
  {
   "cell_type": "code",
   "execution_count": 41,
   "metadata": {
    "tags": []
   },
   "outputs": [
    {
     "data": {
      "text/plain": [
       "69"
      ]
     },
     "execution_count": 41,
     "metadata": {},
     "output_type": "execute_result"
    }
   ],
   "source": [
    "# количество отрицательных значений\n",
    "\n",
    "time_diff2.loc[lambda x : x < 0].count()"
   ]
  },
  {
   "cell_type": "code",
   "execution_count": 42,
   "metadata": {
    "tags": []
   },
   "outputs": [],
   "source": [
    "time_errors2 = time_diff2.loc[lambda x : x < 0].index"
   ]
  },
  {
   "cell_type": "code",
   "execution_count": 43,
   "metadata": {
    "tags": []
   },
   "outputs": [],
   "source": [
    "result_df = result_df[~result_df.index.isin (time_errors2)]"
   ]
  },
  {
   "cell_type": "markdown",
   "metadata": {},
   "source": [
    "Подготовка таблицы для дальнейшего анализа и решения заданий завершена."
   ]
  },
  {
   "cell_type": "markdown",
   "metadata": {},
   "source": [
    "---\n",
    "## [***`Задание №1`***](#E-commerce)\n",
    "---"
   ]
  },
  {
   "cell_type": "markdown",
   "metadata": {},
   "source": [
    "Считаем пользователей совершивших покупку только один раз. Фактом покупки будем считать отсутствие пустого значения в столбце **order_approved_at**. Пользователей будем определять по столбцу **customer_unique_id**. Количество покупок равно уникальному значению заказов в столбце **order_id**."
   ]
  },
  {
   "cell_type": "code",
   "execution_count": 44,
   "metadata": {
    "tags": []
   },
   "outputs": [],
   "source": [
    "# создаю таблицу отфильтровав необходимые столбцы и значения \n",
    "\n",
    "Tusk1 = result_df.loc[result_df['order_approved_at'] \\\n",
    "                 .notna()][['customer_unique_id','order_id']]"
   ]
  },
  {
   "cell_type": "code",
   "execution_count": 45,
   "metadata": {
    "tags": []
   },
   "outputs": [
    {
     "data": {
      "text/plain": [
       "92805"
      ]
     },
     "execution_count": 45,
     "metadata": {},
     "output_type": "execute_result"
    }
   ],
   "source": [
    "# количество пользователей совершивших покупку только один раз\n",
    "\n",
    "(Tusk1.groupby('customer_unique_id').nunique() == 1).sum()[0]"
   ]
  },
  {
   "cell_type": "markdown",
   "metadata": {},
   "source": [
    "---\n",
    "## [***`Задание №2`***](#E-commerce)\n",
    "---"
   ]
  },
  {
   "cell_type": "markdown",
   "metadata": {},
   "source": [
    "Нужно посчитать сколько заказов ежемесячно в среднем не доставляется по разным причинам. Недоставленные заказы - это те, у которых стоит пустое значение в столбце **order_delivered_customer_date**. Количество считаем по месяцу с даты создания заказа. Берём заказы только с отрицательным сценарием  – статус заказа *canceled и unavailable*."
   ]
  },
  {
   "cell_type": "code",
   "execution_count": 46,
   "metadata": {
    "tags": []
   },
   "outputs": [],
   "source": [
    "# создаю таблицу отфильтровав необходимые столбцы и значения \n",
    "\n",
    "Tusk2 = result_df[['order_purchase_timestamp', 'order_status', \n",
    "                   'order_id', 'order_delivered_customer_date']]"
   ]
  },
  {
   "cell_type": "code",
   "execution_count": 47,
   "metadata": {
    "tags": []
   },
   "outputs": [],
   "source": [
    "# создаю столбец с названиями месяца создания заказа\n",
    "\n",
    "Tusk2['order_purchase_month'] = Tusk2['order_purchase_timestamp'].dt.month_name()"
   ]
  },
  {
   "cell_type": "code",
   "execution_count": 48,
   "metadata": {
    "tags": []
   },
   "outputs": [
    {
     "data": {
      "text/plain": [
       "102.33"
      ]
     },
     "execution_count": 48,
     "metadata": {},
     "output_type": "execute_result"
    }
   ],
   "source": [
    "# среднее количество ежемесячно не доставленных заказов по разным причинам\n",
    "\n",
    "round(Tusk2.query(\"order_delivered_customer_date.isna() & \\\n",
    "                   order_status in ('canceled', 'unavailable')\") \n",
    "           .groupby('order_purchase_month')['order_id'].nunique().mean(), 2)"
   ]
  },
  {
   "cell_type": "markdown",
   "metadata": {},
   "source": [
    "---\n",
    "## [***`Задание №3`***](#E-commerce)\n",
    "---"
   ]
  },
  {
   "cell_type": "markdown",
   "metadata": {},
   "source": [
    "По каждому товару нужно определить, в какой день недели товар покупается чаще остальных дней недели. Фактом покупки будем считать отсутствие пустого значения в столбце **order_approved_at**. Количество товара считаем по индикатору столбца **product_id**."
   ]
  },
  {
   "cell_type": "code",
   "execution_count": 49,
   "metadata": {
    "tags": []
   },
   "outputs": [],
   "source": [
    "# создаю таблицу отфильтровав необходимые столбцы и значения \n",
    "\n",
    "Tusk3 = result_df[['product_id', 'order_approved_at']]"
   ]
  },
  {
   "cell_type": "code",
   "execution_count": 50,
   "metadata": {
    "tags": []
   },
   "outputs": [],
   "source": [
    "# создаю столбец с названиями дня недели покупки товара\n",
    "\n",
    "Tusk3['weekday'] = Tusk3['order_approved_at'].dt.day_name()"
   ]
  },
  {
   "cell_type": "code",
   "execution_count": 51,
   "metadata": {
    "tags": []
   },
   "outputs": [],
   "source": [
    "# создаю результирующую таблицу\n",
    "\n",
    "Tusk3_result = (Tusk3.groupby(['product_id', 'weekday'], as_index= False)\n",
    "               ['product_id'].size()   \n",
    "                             .sort_values('size', ascending=False)\n",
    "                             .drop_duplicates(subset='product_id')\n",
    "                             .reset_index())[['product_id', 'weekday']]"
   ]
  },
  {
   "cell_type": "code",
   "execution_count": 52,
   "metadata": {
    "tags": []
   },
   "outputs": [
    {
     "data": {
      "text/html": [
       "<div>\n",
       "<style scoped>\n",
       "    .dataframe tbody tr th:only-of-type {\n",
       "        vertical-align: middle;\n",
       "    }\n",
       "\n",
       "    .dataframe tbody tr th {\n",
       "        vertical-align: top;\n",
       "    }\n",
       "\n",
       "    .dataframe thead th {\n",
       "        text-align: right;\n",
       "    }\n",
       "</style>\n",
       "<table border=\"1\" class=\"dataframe\">\n",
       "  <thead>\n",
       "    <tr style=\"text-align: right;\">\n",
       "      <th></th>\n",
       "      <th>product_id</th>\n",
       "      <th>weekday</th>\n",
       "    </tr>\n",
       "  </thead>\n",
       "  <tbody>\n",
       "    <tr>\n",
       "      <th>0</th>\n",
       "      <td>aca2eb7d00ea1a7b8ebd4e68314663af</td>\n",
       "      <td>Tuesday</td>\n",
       "    </tr>\n",
       "    <tr>\n",
       "      <th>1</th>\n",
       "      <td>53b36df67ebb7c41585e8d54d6772e08</td>\n",
       "      <td>Tuesday</td>\n",
       "    </tr>\n",
       "    <tr>\n",
       "      <th>2</th>\n",
       "      <td>422879e10f46682990de24d770e7f83d</td>\n",
       "      <td>Tuesday</td>\n",
       "    </tr>\n",
       "    <tr>\n",
       "      <th>3</th>\n",
       "      <td>99a4788cb24856965c36a24e339b6058</td>\n",
       "      <td>Tuesday</td>\n",
       "    </tr>\n",
       "    <tr>\n",
       "      <th>4</th>\n",
       "      <td>368c6c730842d78016ad823897a372db</td>\n",
       "      <td>Thursday</td>\n",
       "    </tr>\n",
       "    <tr>\n",
       "      <th>5</th>\n",
       "      <td>389d119b48cf3043d311335e499d9c6b</td>\n",
       "      <td>Tuesday</td>\n",
       "    </tr>\n",
       "    <tr>\n",
       "      <th>6</th>\n",
       "      <td>53759a2ecddad2bb87a079a1f1519f73</td>\n",
       "      <td>Tuesday</td>\n",
       "    </tr>\n",
       "    <tr>\n",
       "      <th>7</th>\n",
       "      <td>d1c427060a0f73f6b889a5c7c61f2ac4</td>\n",
       "      <td>Tuesday</td>\n",
       "    </tr>\n",
       "    <tr>\n",
       "      <th>8</th>\n",
       "      <td>3dd2a17168ec895c781a9191c1e95ad7</td>\n",
       "      <td>Wednesday</td>\n",
       "    </tr>\n",
       "    <tr>\n",
       "      <th>9</th>\n",
       "      <td>154e7e31ebfa092203795c972e5804a6</td>\n",
       "      <td>Tuesday</td>\n",
       "    </tr>\n",
       "  </tbody>\n",
       "</table>\n",
       "</div>"
      ],
      "text/plain": [
       "                         product_id    weekday\n",
       "0  aca2eb7d00ea1a7b8ebd4e68314663af    Tuesday\n",
       "1  53b36df67ebb7c41585e8d54d6772e08    Tuesday\n",
       "2  422879e10f46682990de24d770e7f83d    Tuesday\n",
       "3  99a4788cb24856965c36a24e339b6058    Tuesday\n",
       "4  368c6c730842d78016ad823897a372db   Thursday\n",
       "5  389d119b48cf3043d311335e499d9c6b    Tuesday\n",
       "6  53759a2ecddad2bb87a079a1f1519f73    Tuesday\n",
       "7  d1c427060a0f73f6b889a5c7c61f2ac4    Tuesday\n",
       "8  3dd2a17168ec895c781a9191c1e95ad7  Wednesday\n",
       "9  154e7e31ebfa092203795c972e5804a6    Tuesday"
      ]
     },
     "execution_count": 52,
     "metadata": {},
     "output_type": "execute_result"
    }
   ],
   "source": [
    " # вывод первых 10 товаров и дня недели, когда он чаще всего покупается\n",
    "\n",
    "Tusk3_result.head(10)"
   ]
  },
  {
   "cell_type": "markdown",
   "metadata": {},
   "source": [
    "---\n",
    "## [***`Задание №4`***](#E-commerce)\n",
    "---"
   ]
  },
  {
   "cell_type": "markdown",
   "metadata": {},
   "source": [
    "Нужно посчитать сколько покупок у каждого пользователя в среднем в неделю (по месяцам). Фактом покупки будем считать отсутствие пустого значения в столбце **order_approved_at**. Пользователей будем определять по столбцу **customer_unique_id**. Среднее количество покупок в неделю (по месяцам) равно уникальному среднему значению заказов в столбце **order_id** делённое на количество недель в месяце."
   ]
  },
  {
   "cell_type": "code",
   "execution_count": 53,
   "metadata": {
    "tags": []
   },
   "outputs": [],
   "source": [
    "# создаю таблицу отфильтровав необходимые столбцы и значения\n",
    "\n",
    "Tusk4 = result_df.query('order_approved_at.notna()') \\\n",
    "        [['customer_unique_id','order_id', 'order_approved_at']]"
   ]
  },
  {
   "cell_type": "code",
   "execution_count": 54,
   "metadata": {
    "tags": []
   },
   "outputs": [],
   "source": [
    "# создаю столбец с количеством недель по месяцам в дате покупки\n",
    "\n",
    "Tusk4['cnt_of_weeks'] = Tusk4['order_approved_at'] \\\n",
    "                             .apply(lambda x: round(x.days_in_month / 7, 2))"
   ]
  },
  {
   "cell_type": "code",
   "execution_count": 55,
   "metadata": {
    "tags": []
   },
   "outputs": [],
   "source": [
    "# создаю столбец с месяцем и годом из даты покупки\n",
    "\n",
    "Tusk4['month_year'] = Tusk4['order_approved_at'].dt.to_period('M')"
   ]
  },
  {
   "cell_type": "code",
   "execution_count": 56,
   "metadata": {
    "tags": []
   },
   "outputs": [],
   "source": [
    "# создаю результирующую таблицу\n",
    "\n",
    "Tusk4_result = (Tusk4.groupby(['customer_unique_id', 'month_year', 'cnt_of_weeks'])\n",
    "               ['order_id'].nunique().reset_index()\n",
    "                           .sort_values(['order_id', 'customer_unique_id'], ascending=False))"
   ]
  },
  {
   "cell_type": "code",
   "execution_count": 57,
   "metadata": {
    "tags": []
   },
   "outputs": [],
   "source": [
    "# нахожу среднее количество покупок в неделю по месяцам на каждого пользователя\n",
    "\n",
    "Tusk4_result['avg_purchase'] = round(Tusk4_result['order_id'] \n",
    "                                     / Tusk4_result['cnt_of_weeks'], 2)"
   ]
  },
  {
   "cell_type": "code",
   "execution_count": 58,
   "metadata": {
    "tags": []
   },
   "outputs": [
    {
     "data": {
      "text/html": [
       "<div>\n",
       "<style scoped>\n",
       "    .dataframe tbody tr th:only-of-type {\n",
       "        vertical-align: middle;\n",
       "    }\n",
       "\n",
       "    .dataframe tbody tr th {\n",
       "        vertical-align: top;\n",
       "    }\n",
       "\n",
       "    .dataframe thead th {\n",
       "        text-align: right;\n",
       "    }\n",
       "</style>\n",
       "<table border=\"1\" class=\"dataframe\">\n",
       "  <thead>\n",
       "    <tr style=\"text-align: right;\">\n",
       "      <th></th>\n",
       "      <th>customer_unique_id</th>\n",
       "      <th>avg_purchase</th>\n",
       "    </tr>\n",
       "  </thead>\n",
       "  <tbody>\n",
       "    <tr>\n",
       "      <th>7288</th>\n",
       "      <td>12f5d6e1cbf93dafd9dcc19095df0b3d</td>\n",
       "      <td>1.35</td>\n",
       "    </tr>\n",
       "    <tr>\n",
       "      <th>76482</th>\n",
       "      <td>c8460e4251689ba205045f3ea17884a1</td>\n",
       "      <td>0.90</td>\n",
       "    </tr>\n",
       "    <tr>\n",
       "      <th>69111</th>\n",
       "      <td>b4e4f24de1e8725b74e4a1f4975116ed</td>\n",
       "      <td>1.00</td>\n",
       "    </tr>\n",
       "    <tr>\n",
       "      <th>67477</th>\n",
       "      <td>b08fab27d47a1eb6deda07bfd965ad43</td>\n",
       "      <td>0.93</td>\n",
       "    </tr>\n",
       "    <tr>\n",
       "      <th>61947</th>\n",
       "      <td>a239b8e2fbce33780f1f1912e2ee5275</td>\n",
       "      <td>1.00</td>\n",
       "    </tr>\n",
       "    <tr>\n",
       "      <th>50414</th>\n",
       "      <td>83e7958a94bd7f74a9414d8782f87628</td>\n",
       "      <td>0.90</td>\n",
       "    </tr>\n",
       "    <tr>\n",
       "      <th>23831</th>\n",
       "      <td>3e43e6105506432c953e165fb2acf44c</td>\n",
       "      <td>1.00</td>\n",
       "    </tr>\n",
       "    <tr>\n",
       "      <th>14424</th>\n",
       "      <td>25a560b9a6006157838aab1bdbd68624</td>\n",
       "      <td>0.93</td>\n",
       "    </tr>\n",
       "    <tr>\n",
       "      <th>94039</th>\n",
       "      <td>f64ec6d8dd29940264cd0bbb5ecade8a</td>\n",
       "      <td>0.70</td>\n",
       "    </tr>\n",
       "    <tr>\n",
       "      <th>93539</th>\n",
       "      <td>f50ca6544a0ed8a52cc964e15cbe9cf9</td>\n",
       "      <td>0.68</td>\n",
       "    </tr>\n",
       "  </tbody>\n",
       "</table>\n",
       "</div>"
      ],
      "text/plain": [
       "                     customer_unique_id  avg_purchase\n",
       "7288   12f5d6e1cbf93dafd9dcc19095df0b3d          1.35\n",
       "76482  c8460e4251689ba205045f3ea17884a1          0.90\n",
       "69111  b4e4f24de1e8725b74e4a1f4975116ed          1.00\n",
       "67477  b08fab27d47a1eb6deda07bfd965ad43          0.93\n",
       "61947  a239b8e2fbce33780f1f1912e2ee5275          1.00\n",
       "50414  83e7958a94bd7f74a9414d8782f87628          0.90\n",
       "23831  3e43e6105506432c953e165fb2acf44c          1.00\n",
       "14424  25a560b9a6006157838aab1bdbd68624          0.93\n",
       "94039  f64ec6d8dd29940264cd0bbb5ecade8a          0.70\n",
       "93539  f50ca6544a0ed8a52cc964e15cbe9cf9          0.68"
      ]
     },
     "execution_count": 58,
     "metadata": {},
     "output_type": "execute_result"
    }
   ],
   "source": [
    "# вывод первых 10 пользователей и среднего количества покупок в неделю по месяцам\n",
    "\n",
    "Tusk4_result[['customer_unique_id', 'avg_purchase']].head(10)"
   ]
  },
  {
   "cell_type": "markdown",
   "metadata": {},
   "source": [
    "---\n",
    "## [***`Задание №5`***](#E-commerce)\n",
    "---"
   ]
  },
  {
   "cell_type": "markdown",
   "metadata": {},
   "source": [
    "Используя ***`pandas`***, провести когортный анализ пользователей. В период с января по декабрь выявить когорту с самым высоким ***retention*** на 3-й месяц.<br><br>\n",
    "\n",
    "***Retention*** показывает сколько людей вернулись в день Х (неделю Х, месяц Х) после первого входа в продукт. Когортный анализ позволит отобразить пользователей поделённых на группы по месяцам. Считать пользователей будем по уникальному значению столбца **customer_unique_id**, а активность по дате создания заказа **order_purchase_timestamp**. Также возьмём данные только за тот период, в котором будет полный год (с января по декабрь)."
   ]
  },
  {
   "cell_type": "code",
   "execution_count": 59,
   "metadata": {
    "tags": []
   },
   "outputs": [],
   "source": [
    "# создаю таблицу отфильтровав необходимые столбцы и значения\n",
    "\n",
    "Tusk5 = result_df[['customer_unique_id', 'order_purchase_timestamp']]"
   ]
  },
  {
   "cell_type": "code",
   "execution_count": 60,
   "metadata": {
    "tags": []
   },
   "outputs": [
    {
     "name": "stdout",
     "output_type": "stream",
     "text": [
      "[2017 2018 2016]\n"
     ]
    }
   ],
   "source": [
    "# смотрю за какой год представлены данные\n",
    "\n",
    "year = Tusk5['order_purchase_timestamp'].dt.year\n",
    "\n",
    "print(year.unique())"
   ]
  },
  {
   "cell_type": "code",
   "execution_count": 61,
   "metadata": {
    "tags": []
   },
   "outputs": [],
   "source": [
    "# создаю столбец с месяцем и годом даты создания заказа\n",
    "\n",
    "Tusk5['month_year'] = Tusk5['order_purchase_timestamp'].dt.to_period('M')"
   ]
  },
  {
   "cell_type": "code",
   "execution_count": 62,
   "metadata": {
    "tags": []
   },
   "outputs": [
    {
     "data": {
      "text/html": [
       "<div>\n",
       "<style scoped>\n",
       "    .dataframe tbody tr th:only-of-type {\n",
       "        vertical-align: middle;\n",
       "    }\n",
       "\n",
       "    .dataframe tbody tr th {\n",
       "        vertical-align: top;\n",
       "    }\n",
       "\n",
       "    .dataframe thead th {\n",
       "        text-align: right;\n",
       "    }\n",
       "</style>\n",
       "<table border=\"1\" class=\"dataframe\">\n",
       "  <thead>\n",
       "    <tr style=\"text-align: right;\">\n",
       "      <th></th>\n",
       "      <th>min</th>\n",
       "      <th>max</th>\n",
       "    </tr>\n",
       "    <tr>\n",
       "      <th>order_purchase_timestamp</th>\n",
       "      <th></th>\n",
       "      <th></th>\n",
       "    </tr>\n",
       "  </thead>\n",
       "  <tbody>\n",
       "    <tr>\n",
       "      <th>2016</th>\n",
       "      <td>2016-09</td>\n",
       "      <td>2016-12</td>\n",
       "    </tr>\n",
       "    <tr>\n",
       "      <th>2017</th>\n",
       "      <td>2017-01</td>\n",
       "      <td>2017-12</td>\n",
       "    </tr>\n",
       "    <tr>\n",
       "      <th>2018</th>\n",
       "      <td>2018-01</td>\n",
       "      <td>2018-10</td>\n",
       "    </tr>\n",
       "  </tbody>\n",
       "</table>\n",
       "</div>"
      ],
      "text/plain": [
       "                              min      max\n",
       "order_purchase_timestamp                  \n",
       "2016                      2016-09  2016-12\n",
       "2017                      2017-01  2017-12\n",
       "2018                      2018-01  2018-10"
      ]
     },
     "execution_count": 62,
     "metadata": {},
     "output_type": "execute_result"
    }
   ],
   "source": [
    "# смотрю за какой период представлены данные на каждый год\n",
    "\n",
    "Tusk5.groupby(year)['month_year'].agg(['min', 'max'])"
   ]
  },
  {
   "cell_type": "markdown",
   "metadata": {
    "tags": []
   },
   "source": [
    "Под наше задание подходят данные только за **2017**, так как содержат полный год (период с января по декабрь). Но отфильтровывать данные для корректности когортного анализа пока не будем."
   ]
  },
  {
   "cell_type": "code",
   "execution_count": 63,
   "metadata": {
    "tags": []
   },
   "outputs": [],
   "source": [
    "# создаю таблицу пользователей с датой первого закака\n",
    "\n",
    "first_purchase = Tusk5.groupby('customer_unique_id')['order_purchase_timestamp'] \\\n",
    "                                                    .agg([('min_date', 'min')]).reset_index()"
   ]
  },
  {
   "cell_type": "code",
   "execution_count": 64,
   "metadata": {
    "tags": []
   },
   "outputs": [],
   "source": [
    "# присоединяю получившуюся таблицу с исходной таблицей задания\n",
    "\n",
    "Tusk5_mediate = Tusk5.merge(first_purchase, how='left', on='customer_unique_id')"
   ]
  },
  {
   "cell_type": "code",
   "execution_count": 65,
   "metadata": {
    "tags": []
   },
   "outputs": [],
   "source": [
    "# создаю столбец для деления пользователей на когорты по месяцам\n",
    "\n",
    "Tusk5_mediate['cohorts'] = Tusk5_mediate['min_date'].dt.to_period('M')"
   ]
  },
  {
   "cell_type": "code",
   "execution_count": 66,
   "metadata": {
    "tags": []
   },
   "outputs": [],
   "source": [
    "# количество дней прошедших с первого заказа на текущий заказ\n",
    "\n",
    "days_since = Tusk5_mediate['order_purchase_timestamp'] - Tusk5_mediate['min_date']"
   ]
  },
  {
   "cell_type": "code",
   "execution_count": 67,
   "metadata": {
    "tags": []
   },
   "outputs": [],
   "source": [
    "# количество месяцев прошедших с первого заказа на текущий заказ\n",
    "\n",
    "Tusk5_mediate['month_since'] = np.floor(days_since / np.timedelta64(1, 'M'))"
   ]
  },
  {
   "cell_type": "code",
   "execution_count": 68,
   "metadata": {
    "tags": []
   },
   "outputs": [],
   "source": [
    "# фильтрую заказы сделанные позже 3-х месяцев с первого заказа пользователя\n",
    "\n",
    "Tusk5_result = Tusk5_mediate.query('month_since <= 3')"
   ]
  },
  {
   "cell_type": "code",
   "execution_count": 69,
   "metadata": {
    "tags": []
   },
   "outputs": [],
   "source": [
    "# функция расчёта Retention\n",
    "\n",
    "def Reten_func(table, cohorts, period):\n",
    "    \n",
    "    result  = (table.groupby([cohorts, period]).customer_unique_id.nunique()  \n",
    "               / table.groupby(cohorts).customer_unique_id.nunique())\n",
    "    \n",
    "    return(result)"
   ]
  },
  {
   "cell_type": "code",
   "execution_count": 70,
   "metadata": {
    "tags": []
   },
   "outputs": [],
   "source": [
    "# с помощью функции создаю таблицу с расчётом Retention\n",
    "\n",
    "X = Tusk5_result\n",
    "\n",
    "Reten_calc = Reten_func(X, X['cohorts'], X['month_since']).mul(100).reset_index() "
   ]
  },
  {
   "cell_type": "code",
   "execution_count": 71,
   "metadata": {
    "tags": []
   },
   "outputs": [],
   "source": [
    "# создаю сводную таблицу \n",
    "\n",
    "Reten_pivot = Reten_calc.pivot(index  ='cohorts', \n",
    "                               columns='month_since', \n",
    "                               values ='customer_unique_id').fillna(0)"
   ]
  },
  {
   "cell_type": "code",
   "execution_count": 72,
   "metadata": {
    "tags": []
   },
   "outputs": [],
   "source": [
    "# фильтрую когорты за 2017 год\n",
    "\n",
    "Reten_pivot2017 = Reten_pivot.loc['2017']"
   ]
  },
  {
   "cell_type": "code",
   "execution_count": 73,
   "metadata": {
    "tags": []
   },
   "outputs": [
    {
     "data": {
      "text/plain": [
       "'2017-01'"
      ]
     },
     "execution_count": 73,
     "metadata": {},
     "output_type": "execute_result"
    }
   ],
   "source": [
    "# когорта с максимальным retention на 3-й месяц\n",
    "\n",
    "str(Reten_pivot2017[3.0].idxmax()) "
   ]
  },
  {
   "cell_type": "code",
   "execution_count": 74,
   "metadata": {
    "tags": []
   },
   "outputs": [
    {
     "data": {
      "text/html": [
       "<style type=\"text/css\">\n",
       "#T_aee80_row0_col0, #T_aee80_row0_col3, #T_aee80_row1_col0, #T_aee80_row2_col0, #T_aee80_row2_col2, #T_aee80_row3_col0, #T_aee80_row4_col0, #T_aee80_row5_col0, #T_aee80_row6_col0, #T_aee80_row7_col0, #T_aee80_row7_col1, #T_aee80_row8_col0, #T_aee80_row9_col0, #T_aee80_row10_col0, #T_aee80_row11_col0 {\n",
       "  background-color: #08488e;\n",
       "  color: #f1f1f1;\n",
       "}\n",
       "#T_aee80_row0_col1, #T_aee80_row0_col2, #T_aee80_row1_col1, #T_aee80_row1_col2, #T_aee80_row1_col3, #T_aee80_row2_col1, #T_aee80_row2_col3, #T_aee80_row3_col1, #T_aee80_row3_col2, #T_aee80_row3_col3, #T_aee80_row4_col1, #T_aee80_row4_col2, #T_aee80_row4_col3, #T_aee80_row5_col1, #T_aee80_row5_col2, #T_aee80_row5_col3, #T_aee80_row6_col1, #T_aee80_row6_col2, #T_aee80_row6_col3, #T_aee80_row7_col2, #T_aee80_row7_col3, #T_aee80_row8_col1, #T_aee80_row8_col2, #T_aee80_row8_col3, #T_aee80_row9_col2, #T_aee80_row9_col3, #T_aee80_row10_col1, #T_aee80_row10_col2, #T_aee80_row10_col3, #T_aee80_row11_col1, #T_aee80_row11_col2, #T_aee80_row11_col3 {\n",
       "  background-color: #f7fbff;\n",
       "  color: #000000;\n",
       "}\n",
       "#T_aee80_row9_col1 {\n",
       "  background-color: #68acd5;\n",
       "  color: #f1f1f1;\n",
       "}\n",
       "</style>\n",
       "<table id=\"T_aee80\">\n",
       "  <thead>\n",
       "    <tr>\n",
       "      <th class=\"index_name level0\" >month_since</th>\n",
       "      <th id=\"T_aee80_level0_col0\" class=\"col_heading level0 col0\" >start</th>\n",
       "      <th id=\"T_aee80_level0_col1\" class=\"col_heading level0 col1\" >1</th>\n",
       "      <th id=\"T_aee80_level0_col2\" class=\"col_heading level0 col2\" >2</th>\n",
       "      <th id=\"T_aee80_level0_col3\" class=\"col_heading level0 col3\" >3</th>\n",
       "    </tr>\n",
       "    <tr>\n",
       "      <th class=\"index_name level0\" >cohorts</th>\n",
       "      <th class=\"blank col0\" >&nbsp;</th>\n",
       "      <th class=\"blank col1\" >&nbsp;</th>\n",
       "      <th class=\"blank col2\" >&nbsp;</th>\n",
       "      <th class=\"blank col3\" >&nbsp;</th>\n",
       "    </tr>\n",
       "  </thead>\n",
       "  <tbody>\n",
       "    <tr>\n",
       "      <th id=\"T_aee80_level0_row0\" class=\"row_heading level0 row0\" >2017-01</th>\n",
       "      <td id=\"T_aee80_row0_col0\" class=\"data row0 col0\" >100.00</td>\n",
       "      <td id=\"T_aee80_row0_col1\" class=\"data row0 col1\" >0.26</td>\n",
       "      <td id=\"T_aee80_row0_col2\" class=\"data row0 col2\" >0.00</td>\n",
       "      <td id=\"T_aee80_row0_col3\" class=\"data row0 col3\" >0.52</td>\n",
       "    </tr>\n",
       "    <tr>\n",
       "      <th id=\"T_aee80_level0_row1\" class=\"row_heading level0 row1\" >2017-02</th>\n",
       "      <td id=\"T_aee80_row1_col0\" class=\"data row1 col0\" >100.00</td>\n",
       "      <td id=\"T_aee80_row1_col1\" class=\"data row1 col1\" >0.17</td>\n",
       "      <td id=\"T_aee80_row1_col2\" class=\"data row1 col2\" >0.17</td>\n",
       "      <td id=\"T_aee80_row1_col3\" class=\"data row1 col3\" >0.35</td>\n",
       "    </tr>\n",
       "    <tr>\n",
       "      <th id=\"T_aee80_level0_row2\" class=\"row_heading level0 row2\" >2017-03</th>\n",
       "      <td id=\"T_aee80_row2_col0\" class=\"data row2 col0\" >100.00</td>\n",
       "      <td id=\"T_aee80_row2_col1\" class=\"data row2 col1\" >0.27</td>\n",
       "      <td id=\"T_aee80_row2_col2\" class=\"data row2 col2\" >0.61</td>\n",
       "      <td id=\"T_aee80_row2_col3\" class=\"data row2 col3\" >0.34</td>\n",
       "    </tr>\n",
       "    <tr>\n",
       "      <th id=\"T_aee80_level0_row3\" class=\"row_heading level0 row3\" >2017-04</th>\n",
       "      <td id=\"T_aee80_row3_col0\" class=\"data row3 col0\" >100.00</td>\n",
       "      <td id=\"T_aee80_row3_col1\" class=\"data row3 col1\" >0.38</td>\n",
       "      <td id=\"T_aee80_row3_col2\" class=\"data row3 col2\" >0.21</td>\n",
       "      <td id=\"T_aee80_row3_col3\" class=\"data row3 col3\" >0.04</td>\n",
       "    </tr>\n",
       "    <tr>\n",
       "      <th id=\"T_aee80_level0_row4\" class=\"row_heading level0 row4\" >2017-05</th>\n",
       "      <td id=\"T_aee80_row4_col0\" class=\"data row4 col0\" >100.00</td>\n",
       "      <td id=\"T_aee80_row4_col1\" class=\"data row4 col1\" >0.47</td>\n",
       "      <td id=\"T_aee80_row4_col2\" class=\"data row4 col2\" >0.39</td>\n",
       "      <td id=\"T_aee80_row4_col3\" class=\"data row4 col3\" >0.33</td>\n",
       "    </tr>\n",
       "    <tr>\n",
       "      <th id=\"T_aee80_level0_row5\" class=\"row_heading level0 row5\" >2017-06</th>\n",
       "      <td id=\"T_aee80_row5_col0\" class=\"data row5 col0\" >100.00</td>\n",
       "      <td id=\"T_aee80_row5_col1\" class=\"data row5 col1\" >0.38</td>\n",
       "      <td id=\"T_aee80_row5_col2\" class=\"data row5 col2\" >0.48</td>\n",
       "      <td id=\"T_aee80_row5_col3\" class=\"data row5 col3\" >0.32</td>\n",
       "    </tr>\n",
       "    <tr>\n",
       "      <th id=\"T_aee80_level0_row6\" class=\"row_heading level0 row6\" >2017-07</th>\n",
       "      <td id=\"T_aee80_row6_col0\" class=\"data row6 col0\" >100.00</td>\n",
       "      <td id=\"T_aee80_row6_col1\" class=\"data row6 col1\" >0.39</td>\n",
       "      <td id=\"T_aee80_row6_col2\" class=\"data row6 col2\" >0.23</td>\n",
       "      <td id=\"T_aee80_row6_col3\" class=\"data row6 col3\" >0.28</td>\n",
       "    </tr>\n",
       "    <tr>\n",
       "      <th id=\"T_aee80_level0_row7\" class=\"row_heading level0 row7\" >2017-08</th>\n",
       "      <td id=\"T_aee80_row7_col0\" class=\"data row7 col0\" >100.00</td>\n",
       "      <td id=\"T_aee80_row7_col1\" class=\"data row7 col1\" >0.65</td>\n",
       "      <td id=\"T_aee80_row7_col2\" class=\"data row7 col2\" >0.26</td>\n",
       "      <td id=\"T_aee80_row7_col3\" class=\"data row7 col3\" >0.38</td>\n",
       "    </tr>\n",
       "    <tr>\n",
       "      <th id=\"T_aee80_level0_row8\" class=\"row_heading level0 row8\" >2017-09</th>\n",
       "      <td id=\"T_aee80_row8_col0\" class=\"data row8 col0\" >100.00</td>\n",
       "      <td id=\"T_aee80_row8_col1\" class=\"data row8 col1\" >0.49</td>\n",
       "      <td id=\"T_aee80_row8_col2\" class=\"data row8 col2\" >0.46</td>\n",
       "      <td id=\"T_aee80_row8_col3\" class=\"data row8 col3\" >0.41</td>\n",
       "    </tr>\n",
       "    <tr>\n",
       "      <th id=\"T_aee80_level0_row9\" class=\"row_heading level0 row9\" >2017-10</th>\n",
       "      <td id=\"T_aee80_row9_col0\" class=\"data row9 col0\" >100.00</td>\n",
       "      <td id=\"T_aee80_row9_col1\" class=\"data row9 col1\" >0.58</td>\n",
       "      <td id=\"T_aee80_row9_col2\" class=\"data row9 col2\" >0.09</td>\n",
       "      <td id=\"T_aee80_row9_col3\" class=\"data row9 col3\" >0.13</td>\n",
       "    </tr>\n",
       "    <tr>\n",
       "      <th id=\"T_aee80_level0_row10\" class=\"row_heading level0 row10\" >2017-11</th>\n",
       "      <td id=\"T_aee80_row10_col0\" class=\"data row10 col0\" >100.00</td>\n",
       "      <td id=\"T_aee80_row10_col1\" class=\"data row10 col1\" >0.38</td>\n",
       "      <td id=\"T_aee80_row10_col2\" class=\"data row10 col2\" >0.27</td>\n",
       "      <td id=\"T_aee80_row10_col3\" class=\"data row10 col3\" >0.18</td>\n",
       "    </tr>\n",
       "    <tr>\n",
       "      <th id=\"T_aee80_level0_row11\" class=\"row_heading level0 row11\" >2017-12</th>\n",
       "      <td id=\"T_aee80_row11_col0\" class=\"data row11 col0\" >100.00</td>\n",
       "      <td id=\"T_aee80_row11_col1\" class=\"data row11 col1\" >0.31</td>\n",
       "      <td id=\"T_aee80_row11_col2\" class=\"data row11 col2\" >0.35</td>\n",
       "      <td id=\"T_aee80_row11_col3\" class=\"data row11 col3\" >0.27</td>\n",
       "    </tr>\n",
       "  </tbody>\n",
       "</table>\n"
      ],
      "text/plain": [
       "<pandas.io.formats.style.Styler at 0x214d93245d0>"
      ]
     },
     "execution_count": 74,
     "metadata": {},
     "output_type": "execute_result"
    }
   ],
   "source": [
    "# визуальное отображение Retention за 2017 год\n",
    "\n",
    "Style_pivot = (Reten_pivot.loc['2017'].style.format('{:.2f}')\n",
    "                           .relabel_index(['start', 1, 2, 3], axis=1)\n",
    "                           .background_gradient(cmap='Blues',vmin=0.5, high=0.1) \n",
    "               )\n",
    "\n",
    "Style_pivot"
   ]
  },
  {
   "cell_type": "markdown",
   "metadata": {},
   "source": [
    "---\n",
    "## [***`Задание №6`***](#E-commerce)\n",
    "---"
   ]
  },
  {
   "cell_type": "markdown",
   "metadata": {},
   "source": [
    "Используя ***`python`***, построить ***RFM-сегментацию*** пользователей, чтобы оценить аудиторию. Поделим данные на 4 сегмента, из которых получим кластеры, как описано в условии задания."
   ]
  },
  {
   "cell_type": "code",
   "execution_count": 75,
   "metadata": {
    "tags": []
   },
   "outputs": [],
   "source": [
    "# создаю таблицу отфильтровав необходимые столбцы и значения\n",
    "\n",
    "Tusk6 = result_df[['customer_unique_id', 'order_id', 'order_approved_at', 'price']]"
   ]
  },
  {
   "cell_type": "code",
   "execution_count": 76,
   "metadata": {
    "tags": []
   },
   "outputs": [],
   "source": [
    "# дата последней покупки в отчётном периоде\n",
    "\n",
    "Last_date = Tusk6['order_approved_at'].max() + timedelta(days=1)"
   ]
  },
  {
   "cell_type": "code",
   "execution_count": 77,
   "metadata": {
    "tags": []
   },
   "outputs": [],
   "source": [
    "# создаю таблицу с нужными категориями для последующей сегментации\n",
    "\n",
    "RFM = (Tusk6.groupby('customer_unique_id')\n",
    "            .agg({'order_approved_at': lambda x: (Last_date - x.max()).days, # Дни с последнего заказа\n",
    "                  'order_id': 'nunique',                                    # Количество заказов\n",
    "                  'price': 'sum'})                                         # Общая сумма по всем заказам\n",
    "            .rename(columns={'order_approved_at': 'R', \n",
    "                             'order_id': 'F', \n",
    "                             'price': 'M'})\n",
    "      )"
   ]
  },
  {
   "cell_type": "code",
   "execution_count": 78,
   "metadata": {
    "tags": []
   },
   "outputs": [],
   "source": [
    "# таблица квантилей для деления метрик на ранги \n",
    "\n",
    "q = RFM[['R', 'F', 'M']].quantile([.25, .50, .75])"
   ]
  },
  {
   "cell_type": "code",
   "execution_count": 79,
   "metadata": {
    "tags": []
   },
   "outputs": [],
   "source": [
    "# функция расчёта метрики Recency \n",
    "\n",
    "def RClass(value,parameter_name,quantiles_table):\n",
    "    \n",
    "    \n",
    "    if value   <= quantiles_table[parameter_name][0.25]:\n",
    "        \n",
    "        return 1\n",
    "    \n",
    "    elif value <= quantiles_table[parameter_name][0.50]:\n",
    "        \n",
    "        return 2\n",
    "    \n",
    "    elif value <= quantiles_table[parameter_name][0.75]: \n",
    "        \n",
    "        return 3\n",
    "    \n",
    "    else:\n",
    "        \n",
    "        return 4\n",
    "\n",
    "    \n",
    "# функция расчёта метрик Frequency и Monetary\n",
    "    \n",
    "def FMClass(value, parameter_name,quantiles_table):\n",
    "    \n",
    "    \n",
    "    if value   <= quantiles_table[parameter_name][0.25]:\n",
    "        \n",
    "        return 4\n",
    "    \n",
    "    elif value <= quantiles_table[parameter_name][0.50]:\n",
    "        \n",
    "        return 3\n",
    "    \n",
    "    elif value <= quantiles_table[parameter_name][0.75]: \n",
    "        \n",
    "        return 2\n",
    "    \n",
    "    else:\n",
    "        \n",
    "        return 1"
   ]
  },
  {
   "cell_type": "code",
   "execution_count": 80,
   "metadata": {
    "tags": []
   },
   "outputs": [],
   "source": [
    "# присваиваю ранг каждому значению в столбцах с метриками\n",
    "\n",
    "RFM['R'] = RFM['R'].apply(RClass, args=('R', q))\n",
    "RFM['F'] = RFM['F'].apply(FMClass, args=('F', q))\n",
    "RFM['M'] = RFM['M'].apply(FMClass, args=('M', q))"
   ]
  },
  {
   "cell_type": "code",
   "execution_count": 81,
   "metadata": {
    "tags": []
   },
   "outputs": [],
   "source": [
    "# соединяю сегменты в числовые кластеры\n",
    "\n",
    "RFM['clusters'] = RFM.R.map(str) + RFM.F.map(str) + RFM.M.map(str)"
   ]
  },
  {
   "cell_type": "code",
   "execution_count": 82,
   "metadata": {
    "tags": []
   },
   "outputs": [],
   "source": [
    "# даю каждому кластеру именования\n",
    "\n",
    "Seg_map = {r'444': 'Лучшие',\n",
    "           r'4[1-4][1-4]': 'Потенциальные',\n",
    "           r'[3-4][1-2][1-2]': 'Новые',\n",
    "           r'[2-3][3-4][3-4]': 'Постоянные',\n",
    "           r'[2-3][3-4][1-4]': 'Требуют внимания',\n",
    "           r'[2-3][1-4][1-4]': 'Почти потеряны',\n",
    "           r'[1-2][1-4][1-4]': 'Вялые',\n",
    "           r'111': 'Бездействующие'\n",
    "          }\n",
    "\n",
    "RFM['cluster_name'] = RFM['clusters'].replace(Seg_map, regex=True)"
   ]
  },
  {
   "cell_type": "code",
   "execution_count": 83,
   "metadata": {
    "tags": []
   },
   "outputs": [
    {
     "data": {
      "text/html": [
       "<div>\n",
       "<style scoped>\n",
       "    .dataframe tbody tr th:only-of-type {\n",
       "        vertical-align: middle;\n",
       "    }\n",
       "\n",
       "    .dataframe tbody tr th {\n",
       "        vertical-align: top;\n",
       "    }\n",
       "\n",
       "    .dataframe thead th {\n",
       "        text-align: right;\n",
       "    }\n",
       "</style>\n",
       "<table border=\"1\" class=\"dataframe\">\n",
       "  <thead>\n",
       "    <tr style=\"text-align: right;\">\n",
       "      <th></th>\n",
       "      <th>cluster_name</th>\n",
       "    </tr>\n",
       "  </thead>\n",
       "  <tbody>\n",
       "    <tr>\n",
       "      <th>Вялые</th>\n",
       "      <td>23955</td>\n",
       "    </tr>\n",
       "    <tr>\n",
       "      <th>Постоянные</th>\n",
       "      <td>23624</td>\n",
       "    </tr>\n",
       "    <tr>\n",
       "      <th>Требуют внимания</th>\n",
       "      <td>22818</td>\n",
       "    </tr>\n",
       "    <tr>\n",
       "      <th>Потенциальные</th>\n",
       "      <td>17669</td>\n",
       "    </tr>\n",
       "    <tr>\n",
       "      <th>Лучшие</th>\n",
       "      <td>6245</td>\n",
       "    </tr>\n",
       "    <tr>\n",
       "      <th>Почти потеряны</th>\n",
       "      <td>926</td>\n",
       "    </tr>\n",
       "    <tr>\n",
       "      <th>Новые</th>\n",
       "      <td>595</td>\n",
       "    </tr>\n",
       "  </tbody>\n",
       "</table>\n",
       "</div>"
      ],
      "text/plain": [
       "                  cluster_name\n",
       "Вялые                    23955\n",
       "Постоянные               23624\n",
       "Требуют внимания         22818\n",
       "Потенциальные            17669\n",
       "Лучшие                    6245\n",
       "Почти потеряны             926\n",
       "Новые                      595"
      ]
     },
     "execution_count": 83,
     "metadata": {},
     "output_type": "execute_result"
    }
   ],
   "source": [
    "# вывод пользователей по кластерам\n",
    "\n",
    "Clusters = RFM.cluster_name.value_counts().to_frame()\n",
    "Clusters"
   ]
  },
  {
   "cell_type": "code",
   "execution_count": 84,
   "metadata": {
    "tags": []
   },
   "outputs": [
    {
     "data": {
      "image/png": "[encoded data removed]",
      "text/plain": [
       "<Figure size 1200x600 with 1 Axes>"
      ]
     },
     "metadata": {},
     "output_type": "display_data"
    }
   ],
   "source": [
    "# визуальное отображение\n",
    "\n",
    "fig, ax = plt.subplots(figsize=(12, 6))\n",
    "\n",
    "sns.barplot(data=Clusters, x=Clusters.index, y='cluster_name', palette=\"flare\", ax=ax)\n",
    "ax.set_xticklabels(ax.get_xticklabels(), rotation=45, horizontalalignment='right');"
   ]
  },
  {
   "cell_type": "code",
   "execution_count": 85,
   "metadata": {
    "jupyter": {
     "source_hidden": true
    },
    "tags": []
   },
   "outputs": [
    {
     "data": {
      "image/png": "[encoded data removed]",
      "text/html": [
       "<div style=\"vertical-align: middle;\"><strong>flare</strong> </div><div class=\"cmap\"><img alt=\"flare colormap\" title=\"flare\" style=\"border: 1px solid #555;\" src=\"data:image/png;base64,iVBORw0KGgoAAAANSUhEUgAAAgAAAABACAYAAABsv8+/AAAAFHRFWHRUaXRsZQBmbGFyZSBjb2xvcm1hcPBwCaYAAAAadEVYdERlc2NyaXB0aW9uAGZsYXJlIGNvbG9ybWFwDi+gQAAAADB0RVh0QXV0aG9yAE1hdHBsb3RsaWIgdjMuNy4xLCBodHRwczovL21hdHBsb3RsaWIub3JnKq/4TQAAADJ0RVh0U29mdHdhcmUATWF0cGxvdGxpYiB2My43LjEsIGh0dHBzOi8vbWF0cGxvdGxpYi5vcmcECWdqAAAB4UlEQVR4nO3WQXKDMBBFwSEnz41ysdxBWcQhBXgssL373RsKNBbCq7d8f32Oqqoav5e6Xfr7yVxt58ar+zX3403n7fc5e47Xvuf8d2xvp3PVzXXnn73v7Prjc87nHz9v52q59LsxbvP7Y65zy/b+MHf/9+vvTs63z2vZ3Xf7N++ryb4n3/d/bc7TnWN/fXm9Of9h/U/3ne/Zv1uv9fmz77+2XpP10/s/Obe+/7Zyfb9xbW667/Zgx/nmnOtct969//78+v7Zfofv6P7H7fP//a/9bn/+jwIA4ggAAAgkAAAgkAAAgEACAAACCQAACCQAACCQAACAQAIAAAIJAAAIJAAAIJAAAIBAAgAAAgkAAAgkAAAgkAAAgEACAAACCQAACCQAACCQAACAQAIAAAIJAAAIJAAAIJAAAIBAAgAAAgkAAAgkAAAgkAAAgEACAAACCQAACCQAACCQAACAQAIAAAIJAAAIJAAAIJAAAIBAAgAAAgkAAAgkAAAgkAAAgEACAAACCQAACCQAACCQAACAQAIAAAIJAAAIJAAAIJAAAIBAAgAAAgkAAAgkAAAgkAAAgEACAAACCQAACCQAACCQAACAQAIAAAIJAAAIJAAAIJAAAIBAAgAAAgkAAAgkAAAg0A/eZmRcQvs67gAAAABJRU5ErkJggg==\"></div><div style=\"vertical-align: middle; max-width: 514px; display: flex; justify-content: space-between;\"><div style=\"float: left;\"><div title=\"#edb081ff\" style=\"display: inline-block; width: 1em; height: 1em; margin: 0; vertical-align: middle; border: 1px solid #555; background-color: #edb081ff;\"></div> under</div><div style=\"margin: 0 auto; display: inline-block;\">bad <div title=\"#00000000\" style=\"display: inline-block; width: 1em; height: 1em; margin: 0; vertical-align: middle; border: 1px solid #555; background-color: #00000000;\"></div></div><div style=\"float: right;\">over <div title=\"#4b2362ff\" style=\"display: inline-block; width: 1em; height: 1em; margin: 0; vertical-align: middle; border: 1px solid #555; background-color: #4b2362ff;\"></div></div>"
      ],
      "text/plain": [
       "<matplotlib.colors.ListedColormap at 0x214e18ca950>"
      ]
     },
     "execution_count": 85,
     "metadata": {},
     "output_type": "execute_result"
    }
   ],
   "source": [
    "sns.color_palette(\"flare\", as_cmap=True)"
   ]
  },
  {
   "cell_type": "markdown",
   "metadata": {},
   "source": [
    "# [***К содержанию -->***](#E-commerce)\n",
    "---"
   ]
  }
 ],
 "metadata": {
  "kernelspec": {
   "display_name": "Python 3 (ipykernel)",
   "language": "python",
   "name": "python3"
  },
  "language_info": {
   "codemirror_mode": {
    "name": "ipython",
    "version": 3
   },
   "file_extension": ".py",
   "mimetype": "text/x-python",
   "name": "python",
   "nbconvert_exporter": "python",
   "pygments_lexer": "ipython3",
   "version": "3.11.4"
  }
 },
 "nbformat": 4,
 "nbformat_minor": 4
}
