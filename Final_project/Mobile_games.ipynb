{
 "cells": [
  {
   "cell_type": "markdown",
   "metadata": {},
   "source": [
    "---\n",
    "# `Содержание`\n",
    "---\n",
    "\n",
    "<br>\n",
    "\n",
    " [***Задачи***](#Задачи:) :\n",
    " \n",
    " \n",
    "1. [***Задание***](#Задание-№1)\n",
    "\n",
    "    1.1 [*Подготовительный этап*](#1.1-Подготовительный-этап)\n",
    "    \n",
    "    1.2 [*Решение*](#1.2-Решение)\n",
    "    \n",
    "    1.3 [*Результат*](#1.3-Результат)\n",
    "    \n",
    "    \n",
    "2. [***Задание***](#Задание-№2)\n",
    "\n",
    "    2.1 [*Подготовительный этап*](#2.1-Подготовительный-этап)\n",
    "    \n",
    "    2.2 [*Решение*](#2.2-Решение)\n",
    "    * [Conversion rate в покупку](#Conversion-rate-в-покупку)\n",
    "    * [ARPU](#ARPU)\n",
    "    \n",
    "    \n",
    "   2.3 [*Выводы*](#2.3-Выводы)\n",
    "    \n",
    "    \n",
    "3. [***Задание***](#Задание-№3)\n",
    "\n",
    "    3.1 [*Решение*](#3.1-Решение)\n",
    "<br><br><br><br><br><br><br>\n",
    "\n",
    "---\n",
    "[***README проекта-->***](https://github.com/IvanoVladimir/karpov_courses/blob/main/Interim_Project/README.md 'Ссылка на описание проекта')\n",
    "---"
   ]
  },
  {
   "cell_type": "markdown",
   "metadata": {},
   "source": [
    "\n",
    "---\n",
    "## Задачи:\n",
    "---\n",
    "<br><br><br><br><br>\n",
    "\n",
    "Представьте, что вы работаете в компании, которая разрабатывает мобильные игры. К вам пришел менеджер с рядом задач <br>по исследованию нескольких аспектов мобильного приложения:<br><br>\n",
    "\n",
    "1. В первую очередь, его интересует показатель retention. Напишите функцию для его подсчета.\n",
    "\n",
    "\n",
    "2. Помимо этого, в компании провели A/B тестирование наборов акционных предложений. На основе имеющихся данных определите,<br> какой набор можно считать лучшим и на основе каких метрик стоит принять правильное решение.\n",
    "\n",
    "\n",
    "3. Предложите метрики для оценки результатов последнего прошедшего тематического события в игре.\n",
    "\n",
    "<br><br><br><br><br><br><br><br><br><br><br><br><br><br><br>"
   ]
  },
  {
   "cell_type": "markdown",
   "metadata": {},
   "source": [
    "<br><br>\n",
    "\n",
    "---\n",
    "## [***`Задание №1`***](#Содержание)\n",
    "---\n",
    "<br><br>\n",
    "\n",
    "Retention – один из самых важных показателей в компании. Ваша задача – написать функцию,<br> которая будет считать retention игроков (по дням от даты регистрации игрока).<br> Данные лежат в папке ***`shared`*** и имеют следующую структуру:\n",
    "\n",
    "\n",
    "- ***`shared/problem1-reg_data.csv`*** – данные о времени регистрации\n",
    "\n",
    "reg_ts      |uid\n",
    ":-          |:-\n",
    "06166566    |2\n",
    "906344325   |2\n",
    "906686169   |2\n",
    "906893386   |2\n",
    "906980227   |2\n",
    "\n",
    "- ***`shared/problem1-auth_data.csv`*** – данные о времени захода пользователей в игру\n",
    "\n",
    "auth_ts\t    |uid\n",
    ":-          |:-\n",
    "906166566\t|2\n",
    "924422172\t|3\n",
    "937374732\t|4\n",
    "947425117\t|5\n",
    "955630339\t|6\n",
    "\n",
    "<br>\n",
    "\n",
    "Функция должна быть написана на python. В ходе решения можно тестировать работу функции,<br> как на полном датасете, так и на части (сэмпле) данных.\n",
    "\n",
    "<br><br>"
   ]
  },
  {
   "cell_type": "markdown",
   "metadata": {},
   "source": [
    "---\n",
    "###  [***`1.1 Подготовительный этап`***](#Содержание)\n",
    "---"
   ]
  },
  {
   "cell_type": "code",
   "execution_count": 1,
   "metadata": {},
   "outputs": [],
   "source": [
    "import os\n",
    "import requests\n",
    "import pandas as pd\n",
    "import seaborn as sns\n",
    "import pingouin as pg \n",
    "import scipy.stats as sps\n",
    "\n",
    "from datetime import datetime\n",
    "from urllib.parse import urlencode\n",
    "from scipy.stats import chi2_contingency, chi2"
   ]
  },
  {
   "cell_type": "code",
   "execution_count": 2,
   "metadata": {},
   "outputs": [],
   "source": [
    "path = 'C:/Users/volod/YandexDisk/JupyterLab/GitHub/karpov_courses/Final_project/'"
   ]
  },
  {
   "cell_type": "code",
   "execution_count": 3,
   "metadata": {},
   "outputs": [],
   "source": [
    "'''\n",
    "создал пустой список, в который складываются нужные данные\n",
    "и сразу конвертируются столбцы с типом timestamp в datetime \n",
    "с помощью вложенных циклов и условий\n",
    "'''\n",
    "\n",
    "dfs = []\n",
    "         \n",
    "for root, dirs, files in os.walk(path):\n",
    "\n",
    "    for file in files:\n",
    "\n",
    "        if file.startswith('problem1'):\n",
    "        \n",
    "            df = pd.read_csv((root + file), sep=';')\n",
    "            col = pd.to_datetime(df.iloc[:, 0], unit='s').dt.date\n",
    "            df.iloc[:, 0] = pd.to_datetime(col)\n",
    "            dfs.append(df)"
   ]
  },
  {
   "cell_type": "markdown",
   "metadata": {},
   "source": [
    "***Комментарии к предыдущему блоку кода***:\n",
    "\n",
    "Поступил так исходя из универсальности чтения данных. Например:\n",
    "- При добавлении новой таблицы со схожей структурой \n",
    "в ту же директорию её уже не нужно считывать дополнительно<br> — она также попадет в результирующий список, если будет содержать необходимые символы в начале названия."
   ]
  },
  {
   "cell_type": "code",
   "execution_count": 4,
   "metadata": {},
   "outputs": [],
   "source": [
    "# функция основной необходимой информации по таблице\n",
    "\n",
    "def _get_info(table):\n",
    "    \n",
    "    shapes = table.shape\n",
    "    types = table.dtypes\n",
    "    nuniques = table.nunique()\n",
    "    miss_val = table.isna().any(axis=1).sum()\n",
    "    duplicates = table.loc[table.duplicated()].count().sum()\n",
    "    \n",
    "    print('Таблица содержит' + f' {shapes[0]}', 'строк и', \n",
    "                               f'{shapes[1]}', 'столбцов,',\n",
    "                               f'{miss_val}', 'пропусков и', \n",
    "                               f'{duplicates}', 'дубликатов.\\n', \n",
    "                                '\\nТип данных:', \n",
    "                               f'\\n{types}',\n",
    "                                '\\n\\nЧисло уникальных значений:', \n",
    "                               f'\\n{nuniques}'\n",
    "          )"
   ]
  },
  {
   "cell_type": "code",
   "execution_count": 5,
   "metadata": {},
   "outputs": [
    {
     "name": "stdout",
     "output_type": "stream",
     "text": [
      "Таблица содержит 9601013 строк и 2 столбцов, 0 пропусков и 0 дубликатов.\n",
      " \n",
      "Тип данных: \n",
      "auth_ts    datetime64[ns]\n",
      "uid                 int64\n",
      "dtype: object \n",
      "\n",
      "Число уникальных значений: \n",
      "auth_ts       6169\n",
      "uid        1000000\n",
      "dtype: int64\n"
     ]
    },
    {
     "data": {
      "text/html": [
       "<div>\n",
       "<style scoped>\n",
       "    .dataframe tbody tr th:only-of-type {\n",
       "        vertical-align: middle;\n",
       "    }\n",
       "\n",
       "    .dataframe tbody tr th {\n",
       "        vertical-align: top;\n",
       "    }\n",
       "\n",
       "    .dataframe thead th {\n",
       "        text-align: right;\n",
       "    }\n",
       "</style>\n",
       "<table border=\"1\" class=\"dataframe\">\n",
       "  <thead>\n",
       "    <tr style=\"text-align: right;\">\n",
       "      <th></th>\n",
       "      <th>auth_ts</th>\n",
       "      <th>uid</th>\n",
       "    </tr>\n",
       "  </thead>\n",
       "  <tbody>\n",
       "    <tr>\n",
       "      <th>0</th>\n",
       "      <td>1998-11-18</td>\n",
       "      <td>1</td>\n",
       "    </tr>\n",
       "    <tr>\n",
       "      <th>1</th>\n",
       "      <td>1999-07-22</td>\n",
       "      <td>2</td>\n",
       "    </tr>\n",
       "    <tr>\n",
       "      <th>2</th>\n",
       "      <td>1999-07-25</td>\n",
       "      <td>2</td>\n",
       "    </tr>\n",
       "  </tbody>\n",
       "</table>\n",
       "</div>"
      ],
      "text/plain": [
       "     auth_ts  uid\n",
       "0 1998-11-18    1\n",
       "1 1999-07-22    2\n",
       "2 1999-07-25    2"
      ]
     },
     "execution_count": 5,
     "metadata": {},
     "output_type": "execute_result"
    }
   ],
   "source": [
    "# данные о времени регистрации и некоторая информация\n",
    "\n",
    "reg_data = dfs[0]\n",
    "\n",
    "_get_info(reg_data)\n",
    "reg_data.head(3)"
   ]
  },
  {
   "cell_type": "code",
   "execution_count": 6,
   "metadata": {
    "scrolled": true
   },
   "outputs": [
    {
     "name": "stdout",
     "output_type": "stream",
     "text": [
      "Таблица содержит 1000000 строк и 2 столбцов, 0 пропусков и 0 дубликатов.\n",
      " \n",
      "Тип данных: \n",
      "reg_ts    datetime64[ns]\n",
      "uid                int64\n",
      "dtype: object \n",
      "\n",
      "Число уникальных значений: \n",
      "reg_ts       5110\n",
      "uid       1000000\n",
      "dtype: int64\n"
     ]
    },
    {
     "data": {
      "text/html": [
       "<div>\n",
       "<style scoped>\n",
       "    .dataframe tbody tr th:only-of-type {\n",
       "        vertical-align: middle;\n",
       "    }\n",
       "\n",
       "    .dataframe tbody tr th {\n",
       "        vertical-align: top;\n",
       "    }\n",
       "\n",
       "    .dataframe thead th {\n",
       "        text-align: right;\n",
       "    }\n",
       "</style>\n",
       "<table border=\"1\" class=\"dataframe\">\n",
       "  <thead>\n",
       "    <tr style=\"text-align: right;\">\n",
       "      <th></th>\n",
       "      <th>reg_ts</th>\n",
       "      <th>uid</th>\n",
       "    </tr>\n",
       "  </thead>\n",
       "  <tbody>\n",
       "    <tr>\n",
       "      <th>0</th>\n",
       "      <td>1998-11-18</td>\n",
       "      <td>1</td>\n",
       "    </tr>\n",
       "    <tr>\n",
       "      <th>1</th>\n",
       "      <td>1999-07-22</td>\n",
       "      <td>2</td>\n",
       "    </tr>\n",
       "    <tr>\n",
       "      <th>2</th>\n",
       "      <td>2000-01-13</td>\n",
       "      <td>3</td>\n",
       "    </tr>\n",
       "  </tbody>\n",
       "</table>\n",
       "</div>"
      ],
      "text/plain": [
       "      reg_ts  uid\n",
       "0 1998-11-18    1\n",
       "1 1999-07-22    2\n",
       "2 2000-01-13    3"
      ]
     },
     "execution_count": 6,
     "metadata": {},
     "output_type": "execute_result"
    }
   ],
   "source": [
    "# данные о времени захода пользователей в игру и некоторая информация\n",
    "\n",
    "auth_data = dfs[1]\n",
    "\n",
    "_get_info(auth_data)\n",
    "auth_data.head(3)"
   ]
  },
  {
   "cell_type": "code",
   "execution_count": 7,
   "metadata": {
    "scrolled": true
   },
   "outputs": [
    {
     "name": "stdout",
     "output_type": "stream",
     "text": [
      "Таблица содержит 9601013 строк и 3 столбцов, 0 пропусков и 0 дубликатов.\n",
      " \n",
      "Тип данных: \n",
      "reg_ts     datetime64[ns]\n",
      "uid                 int64\n",
      "auth_ts    datetime64[ns]\n",
      "dtype: object \n",
      "\n",
      "Число уникальных значений: \n",
      "reg_ts        5110\n",
      "uid        1000000\n",
      "auth_ts       6169\n",
      "dtype: int64\n"
     ]
    },
    {
     "data": {
      "text/html": [
       "<div>\n",
       "<style scoped>\n",
       "    .dataframe tbody tr th:only-of-type {\n",
       "        vertical-align: middle;\n",
       "    }\n",
       "\n",
       "    .dataframe tbody tr th {\n",
       "        vertical-align: top;\n",
       "    }\n",
       "\n",
       "    .dataframe thead th {\n",
       "        text-align: right;\n",
       "    }\n",
       "</style>\n",
       "<table border=\"1\" class=\"dataframe\">\n",
       "  <thead>\n",
       "    <tr style=\"text-align: right;\">\n",
       "      <th></th>\n",
       "      <th>reg_ts</th>\n",
       "      <th>uid</th>\n",
       "      <th>auth_ts</th>\n",
       "    </tr>\n",
       "  </thead>\n",
       "  <tbody>\n",
       "    <tr>\n",
       "      <th>0</th>\n",
       "      <td>1998-11-18</td>\n",
       "      <td>1</td>\n",
       "      <td>1998-11-18</td>\n",
       "    </tr>\n",
       "    <tr>\n",
       "      <th>1</th>\n",
       "      <td>1999-07-22</td>\n",
       "      <td>2</td>\n",
       "      <td>1999-07-22</td>\n",
       "    </tr>\n",
       "  </tbody>\n",
       "</table>\n",
       "</div>"
      ],
      "text/plain": [
       "      reg_ts  uid    auth_ts\n",
       "0 1998-11-18    1 1998-11-18\n",
       "1 1999-07-22    2 1999-07-22"
      ]
     },
     "execution_count": 7,
     "metadata": {},
     "output_type": "execute_result"
    }
   ],
   "source": [
    "# объединение обеих таблиц в одну и вывод информации\n",
    "\n",
    "Task1 = auth_data.merge(reg_data, how='outer', on='uid')\n",
    "\n",
    "_get_info(Task1)\n",
    "Task1.head(2)"
   ]
  },
  {
   "cell_type": "code",
   "execution_count": 8,
   "metadata": {},
   "outputs": [
    {
     "data": {
      "text/plain": [
       "0"
      ]
     },
     "execution_count": 8,
     "metadata": {},
     "output_type": "execute_result"
    }
   ],
   "source": [
    "# минимальное количество дней с момента регистрации на день захода в игру\n",
    "# отрицательное значение может говорить об ошибках в данных\n",
    "\n",
    "(Task1.auth_ts - Task1.reg_ts).dt.days.min()"
   ]
  },
  {
   "cell_type": "markdown",
   "metadata": {},
   "source": [
    "-----\n",
    "###  [***`1.2 Решение`***](#Содержание)\n",
    "-----"
   ]
  },
  {
   "cell_type": "markdown",
   "metadata": {},
   "source": [
    "Чтобы рассчитать *Retention*, нужно знать количество активных пользователей определенной когорты по дням (неделям или месяцам).<br>Например:\n",
    "\n",
    "- Взять число новых пользователей в Day 0 (день, когда группа пользователей пришла);\n",
    "\n",
    "\n",
    "- Взять число активных пользователей в Day N (интересующий день для расчета метрики *Retention*);\n",
    "\n",
    "\n",
    "- Разделить второе значение на первое, и результат умножить на 100.\n",
    "\n",
    "**Формула расчета Retention:**\n",
    "\n",
    "        Day N Retention = (Users Day N / Users Day 0) * 100"
   ]
  },
  {
   "cell_type": "code",
   "execution_count": 9,
   "metadata": {},
   "outputs": [],
   "source": [
    "# аргументы для параметров определяющих размер когорт и временной интервал\n",
    "\n",
    "daily, weekly, monthly, quarterly, yearly = (['D', 'Daily'], ['W', 'Weekly'], ['M', 'Monthly'],\n",
    "                                             ['q', 'Quarterly'], ['Y', 'Yearly'])\n",
    "\n",
    "# функция динамического расчёта Retention с визуализацией\n",
    "def _get_retention(data, \n",
    "                   cohort_start, \n",
    "                   time_period=0,\n",
    "                   cohort_size=yearly,\n",
    "                   time_interval=yearly,\n",
    "                   cohort_end=f'{datetime.now()}'):\n",
    "\n",
    "    # сбор данных для расчёта Retention из вводной таблицы\n",
    "    df = data\n",
    "    reg = df.iloc[:, 0]\n",
    "    auth = df.iloc[:, 2]\n",
    "    cohorts = reg.dt.to_period(f'{cohort_size[0]}')\n",
    "    intervals = (auth - reg).astype('timedelta64' + f'[{time_interval[0]}]').astype('int')\n",
    "                            \n",
    "    # расчёт Retention из собранных данных таблицы\n",
    "    calc = (df.groupby([cohorts, intervals]).nunique().iloc[:, 1]\n",
    "            / df.groupby(cohorts).nunique().iloc[:, 1]).mul(100).reset_index()\n",
    "    \n",
    "    # динамическое изменение названия колонок размера когорт \n",
    "    # и временного интервала в зависимости заданных параметров\n",
    "    calc = calc.rename(columns={calc.columns[1]: f'{time_interval[1]}' + ' interval',\n",
    "                                calc.columns[0]: f'{cohort_size[1]}' + ' cohorts'})                   \n",
    "    \n",
    "    # создание сводной таблицы\n",
    "    pivot = calc.pivot(index=calc.columns[0], \n",
    "                       columns=calc.columns[1], \n",
    "                       values=calc.columns[2]\n",
    "                       )\n",
    "    \n",
    "    # замена значенй нулевого интервала на количество пользователей в когорте\n",
    "    pivot[0] = (df.groupby(cohorts).nunique().iloc[:, 1])\n",
    "    pivot = pivot.rename(columns={0: 'Quantity of users'})\n",
    "\n",
    "    # регулировка временного горизонта,\n",
    "    # а также периодов формирования когорт\n",
    "    pivot = pivot.iloc[:, :time_period + 1]\n",
    "    pivot = pivot.loc[pivot.index >= cohort_start]\n",
    "    pivot = pivot.loc[pivot.index <= cohort_end]\n",
    "    \n",
    "    # визуальное оформление сводной таблицы\n",
    "    style = (pivot.style.format('{:.2f}', na_rep='')\n",
    "                        .set_caption(\"Расчёт Retention\")\n",
    "                        .background_gradient(cmap='Blues', vmin=0.1, vmax=11.0, axis=None) \n",
    "                        .set_table_styles([{'selector': '', \n",
    "                                            'props': [('color', 'black'),\n",
    "                                                      ('border-style', 'solid'),\n",
    "                                                      ('border-width', '3px')]\n",
    "                                            }, \n",
    "                                           {'selector': 'th', \n",
    "                                            'props': [('background-color', 'grey')]\n",
    "                                            },\n",
    "                                           {'selector': 'td', \n",
    "                                            'props': [('color', 'black')]}\n",
    "                                           ])             \n",
    "             )\n",
    "    \n",
    "    return style"
   ]
  },
  {
   "cell_type": "markdown",
   "metadata": {},
   "source": [
    "***Описание параметров определяющих результат расчёта Retention с визуализацией:***\n",
    "1. **`data`** – принимает на вход таблицу;\n",
    "2. **`cohort_size`** – размер когорты(по умолчанию по годам), принимает на вход аргументы формирующие размер по:\n",
    " * *daily* – дням\n",
    " * *weekly* – неделям\n",
    " * *monthly* – месяцам\n",
    " * *quarterly* – кварталам\n",
    " * *yearly* – годам\n",
    " \n",
    " \n",
    "3. **`cohort_start`** – принимает на вход строковый аргумент в формате \"год-месяц-день\" определяющий начало формирования когорт,<br> указывать обязательно;\n",
    "4. **`cohort_end`** – принимает на вход строковый аргумент в формате \"год-месяц-день\" определяющий окончание формирования когорт<br>(по умолчанию текущая дата);\n",
    "5. **`time_interval`** – принимает на вход аргументы определяющие временной интервал(по умолчанию по годам) по:\n",
    " * *daily* – дням\n",
    " * *weekly* – неделям\n",
    " * *monthly* – месяцам\n",
    " * *yearly* – годам\n",
    " \n",
    " \n",
    "6. **`time_period`** – принимает на вход численный аргумент определяющий временной горизонт(по умолчанию покажет только количество пользователей в когорте)."
   ]
  },
  {
   "cell_type": "markdown",
   "metadata": {},
   "source": [
    "***Правила и рекомендации по использованию функции:***\n",
    "- [x] в структуре таблицы первые столбцы обязательно должны быть в такой последовательности:\n",
    " 1. дата регистрации пользователя\n",
    " 2. ID пользователя\n",
    " 3. дата авторизации пользователя<br><br>\n",
    "- [x] параметр **`cohort_start`**выставить обязательно, иначе функция не сработает;<br>\n",
    "- [x] параметры выставлять согласно описанию, во избежания ошибок;\n",
    "- параметры **`cohort_start и cohort_end`** также работают в формате \"год-месяц\" и \"год\";\n",
    "- для удобства ниже перед в функцией расположены аргументы для копирования в функцию,<br>\n",
    "  и даты начала и окончания формирования когорт для текущего задания."
   ]
  },
  {
   "cell_type": "markdown",
   "metadata": {},
   "source": [
    "-----\n",
    "###  [***`1.3 Результат`***](#Содержание)\n",
    "-----"
   ]
  },
  {
   "cell_type": "code",
   "execution_count": 10,
   "metadata": {},
   "outputs": [
    {
     "data": {
      "text/plain": [
       "min   1998-11-18\n",
       "max   2020-09-23\n",
       "Name: reg_ts, dtype: datetime64[ns]"
      ]
     },
     "execution_count": 10,
     "metadata": {},
     "output_type": "execute_result"
    }
   ],
   "source": [
    "daily, weekly, monthly, quarterly, yearly\n",
    "\n",
    "Task1['reg_ts'].agg(['min', 'max'])"
   ]
  },
  {
   "cell_type": "code",
   "execution_count": 11,
   "metadata": {
    "scrolled": true
   },
   "outputs": [
    {
     "data": {
      "text/html": [
       "<style type=\"text/css\">\n",
       "#T_621ec  {\n",
       "  color: black;\n",
       "  border-style: solid;\n",
       "  border-width: 3px;\n",
       "}\n",
       "#T_621ec th {\n",
       "  background-color: grey;\n",
       "}\n",
       "#T_621ec td {\n",
       "  color: black;\n",
       "}\n",
       "#T_621ec_row0_col0, #T_621ec_row1_col0, #T_621ec_row2_col0, #T_621ec_row3_col0, #T_621ec_row4_col0, #T_621ec_row5_col0, #T_621ec_row6_col0 {\n",
       "  background-color: #08306b;\n",
       "  color: #f1f1f1;\n",
       "}\n",
       "#T_621ec_row0_col1 {\n",
       "  background-color: #083b7c;\n",
       "  color: #f1f1f1;\n",
       "}\n",
       "#T_621ec_row0_col2, #T_621ec_row0_col3, #T_621ec_row0_col4, #T_621ec_row0_col5, #T_621ec_row0_col6, #T_621ec_row0_col7, #T_621ec_row0_col8, #T_621ec_row0_col9, #T_621ec_row0_col10, #T_621ec_row0_col11, #T_621ec_row0_col12, #T_621ec_row0_col13, #T_621ec_row0_col14, #T_621ec_row0_col15, #T_621ec_row0_col16, #T_621ec_row0_col17, #T_621ec_row0_col18, #T_621ec_row0_col19, #T_621ec_row0_col20, #T_621ec_row0_col21, #T_621ec_row0_col22, #T_621ec_row0_col23, #T_621ec_row0_col24 {\n",
       "  background-color: #77b5d9;\n",
       "  color: #000000;\n",
       "}\n",
       "#T_621ec_row1_col1 {\n",
       "  background-color: #08488e;\n",
       "  color: #f1f1f1;\n",
       "}\n",
       "#T_621ec_row1_col2, #T_621ec_row1_col3, #T_621ec_row1_col4, #T_621ec_row1_col5, #T_621ec_row1_col6, #T_621ec_row1_col7, #T_621ec_row1_col8, #T_621ec_row1_col9, #T_621ec_row1_col10, #T_621ec_row1_col11, #T_621ec_row1_col12, #T_621ec_row1_col13, #T_621ec_row1_col14, #T_621ec_row1_col15, #T_621ec_row1_col16, #T_621ec_row1_col17, #T_621ec_row1_col18, #T_621ec_row1_col19, #T_621ec_row1_col20, #T_621ec_row1_col21, #T_621ec_row1_col22, #T_621ec_row1_col23 {\n",
       "  background-color: #84bcdb;\n",
       "  color: #000000;\n",
       "}\n",
       "#T_621ec_row1_col24 {\n",
       "  background-color: #99c7e0;\n",
       "  color: #000000;\n",
       "}\n",
       "#T_621ec_row2_col1, #T_621ec_row4_col1, #T_621ec_row6_col1 {\n",
       "  background-color: #084082;\n",
       "  color: #f1f1f1;\n",
       "}\n",
       "#T_621ec_row2_col2, #T_621ec_row2_col3, #T_621ec_row2_col4, #T_621ec_row2_col5, #T_621ec_row2_col6, #T_621ec_row2_col7, #T_621ec_row2_col8, #T_621ec_row2_col9, #T_621ec_row2_col10, #T_621ec_row2_col11, #T_621ec_row2_col12, #T_621ec_row2_col13, #T_621ec_row2_col14, #T_621ec_row2_col15, #T_621ec_row2_col16, #T_621ec_row2_col17, #T_621ec_row2_col18, #T_621ec_row2_col19, #T_621ec_row2_col20 {\n",
       "  background-color: #81badb;\n",
       "  color: #000000;\n",
       "}\n",
       "#T_621ec_row2_col21 {\n",
       "  background-color: #97c6df;\n",
       "  color: #000000;\n",
       "}\n",
       "#T_621ec_row2_col22 {\n",
       "  background-color: #c9ddf0;\n",
       "  color: #000000;\n",
       "}\n",
       "#T_621ec_row2_col23 {\n",
       "  background-color: #e6f0f9;\n",
       "  color: #000000;\n",
       "}\n",
       "#T_621ec_row2_col24, #T_621ec_row3_col21, #T_621ec_row3_col22, #T_621ec_row3_col23, #T_621ec_row3_col24, #T_621ec_row4_col18, #T_621ec_row4_col19, #T_621ec_row4_col20, #T_621ec_row4_col21, #T_621ec_row4_col22, #T_621ec_row4_col23, #T_621ec_row4_col24, #T_621ec_row5_col15, #T_621ec_row5_col16, #T_621ec_row5_col17, #T_621ec_row5_col18, #T_621ec_row5_col19, #T_621ec_row5_col20, #T_621ec_row5_col21, #T_621ec_row5_col22, #T_621ec_row5_col23, #T_621ec_row5_col24, #T_621ec_row6_col12, #T_621ec_row6_col13, #T_621ec_row6_col14, #T_621ec_row6_col15, #T_621ec_row6_col16, #T_621ec_row6_col17, #T_621ec_row6_col18, #T_621ec_row6_col19, #T_621ec_row6_col20, #T_621ec_row6_col21, #T_621ec_row6_col22, #T_621ec_row6_col23, #T_621ec_row6_col24 {\n",
       "  background-color: #000000;\n",
       "  color: #f1f1f1;\n",
       "}\n",
       "#T_621ec_row3_col1 {\n",
       "  background-color: #084184;\n",
       "  color: #f1f1f1;\n",
       "}\n",
       "#T_621ec_row3_col2, #T_621ec_row3_col3, #T_621ec_row3_col4, #T_621ec_row3_col5, #T_621ec_row3_col6, #T_621ec_row3_col7, #T_621ec_row3_col8, #T_621ec_row3_col9, #T_621ec_row3_col10, #T_621ec_row3_col11, #T_621ec_row3_col12, #T_621ec_row3_col13, #T_621ec_row3_col14, #T_621ec_row3_col15, #T_621ec_row3_col16, #T_621ec_row3_col17, #T_621ec_row5_col2, #T_621ec_row5_col3, #T_621ec_row5_col4, #T_621ec_row5_col5, #T_621ec_row5_col6, #T_621ec_row5_col7, #T_621ec_row5_col8, #T_621ec_row5_col9, #T_621ec_row5_col10, #T_621ec_row5_col11, #T_621ec_row6_col2, #T_621ec_row6_col3, #T_621ec_row6_col4, #T_621ec_row6_col5, #T_621ec_row6_col6, #T_621ec_row6_col7, #T_621ec_row6_col8 {\n",
       "  background-color: #7fb9da;\n",
       "  color: #000000;\n",
       "}\n",
       "#T_621ec_row3_col18 {\n",
       "  background-color: #92c4de;\n",
       "  color: #000000;\n",
       "}\n",
       "#T_621ec_row3_col19, #T_621ec_row5_col13 {\n",
       "  background-color: #c7dcef;\n",
       "  color: #000000;\n",
       "}\n",
       "#T_621ec_row3_col20, #T_621ec_row4_col17, #T_621ec_row5_col14 {\n",
       "  background-color: #e4eff9;\n",
       "  color: #000000;\n",
       "}\n",
       "#T_621ec_row4_col2, #T_621ec_row4_col3, #T_621ec_row4_col4, #T_621ec_row4_col5, #T_621ec_row4_col6, #T_621ec_row4_col7, #T_621ec_row4_col8, #T_621ec_row4_col9, #T_621ec_row4_col10, #T_621ec_row4_col11, #T_621ec_row4_col12, #T_621ec_row4_col13, #T_621ec_row4_col14 {\n",
       "  background-color: #7cb7da;\n",
       "  color: #000000;\n",
       "}\n",
       "#T_621ec_row4_col15 {\n",
       "  background-color: #91c3de;\n",
       "  color: #000000;\n",
       "}\n",
       "#T_621ec_row4_col16 {\n",
       "  background-color: #c6dbef;\n",
       "  color: #000000;\n",
       "}\n",
       "#T_621ec_row5_col1 {\n",
       "  background-color: #084387;\n",
       "  color: #f1f1f1;\n",
       "}\n",
       "#T_621ec_row5_col12, #T_621ec_row6_col9 {\n",
       "  background-color: #94c4df;\n",
       "  color: #000000;\n",
       "}\n",
       "#T_621ec_row6_col10 {\n",
       "  background-color: #c8dcf0;\n",
       "  color: #000000;\n",
       "}\n",
       "#T_621ec_row6_col11 {\n",
       "  background-color: #e5eff9;\n",
       "  color: #000000;\n",
       "}\n",
       "</style>\n",
       "<table id=\"T_621ec\">\n",
       "  <caption>Расчёт Retention</caption>\n",
       "  <thead>\n",
       "    <tr>\n",
       "      <th class=\"index_name level0\" >Monthly interval</th>\n",
       "      <th id=\"T_621ec_level0_col0\" class=\"col_heading level0 col0\" >Quantity of users</th>\n",
       "      <th id=\"T_621ec_level0_col1\" class=\"col_heading level0 col1\" >1</th>\n",
       "      <th id=\"T_621ec_level0_col2\" class=\"col_heading level0 col2\" >2</th>\n",
       "      <th id=\"T_621ec_level0_col3\" class=\"col_heading level0 col3\" >3</th>\n",
       "      <th id=\"T_621ec_level0_col4\" class=\"col_heading level0 col4\" >4</th>\n",
       "      <th id=\"T_621ec_level0_col5\" class=\"col_heading level0 col5\" >5</th>\n",
       "      <th id=\"T_621ec_level0_col6\" class=\"col_heading level0 col6\" >6</th>\n",
       "      <th id=\"T_621ec_level0_col7\" class=\"col_heading level0 col7\" >7</th>\n",
       "      <th id=\"T_621ec_level0_col8\" class=\"col_heading level0 col8\" >8</th>\n",
       "      <th id=\"T_621ec_level0_col9\" class=\"col_heading level0 col9\" >9</th>\n",
       "      <th id=\"T_621ec_level0_col10\" class=\"col_heading level0 col10\" >10</th>\n",
       "      <th id=\"T_621ec_level0_col11\" class=\"col_heading level0 col11\" >11</th>\n",
       "      <th id=\"T_621ec_level0_col12\" class=\"col_heading level0 col12\" >12</th>\n",
       "      <th id=\"T_621ec_level0_col13\" class=\"col_heading level0 col13\" >13</th>\n",
       "      <th id=\"T_621ec_level0_col14\" class=\"col_heading level0 col14\" >14</th>\n",
       "      <th id=\"T_621ec_level0_col15\" class=\"col_heading level0 col15\" >15</th>\n",
       "      <th id=\"T_621ec_level0_col16\" class=\"col_heading level0 col16\" >16</th>\n",
       "      <th id=\"T_621ec_level0_col17\" class=\"col_heading level0 col17\" >17</th>\n",
       "      <th id=\"T_621ec_level0_col18\" class=\"col_heading level0 col18\" >18</th>\n",
       "      <th id=\"T_621ec_level0_col19\" class=\"col_heading level0 col19\" >19</th>\n",
       "      <th id=\"T_621ec_level0_col20\" class=\"col_heading level0 col20\" >20</th>\n",
       "      <th id=\"T_621ec_level0_col21\" class=\"col_heading level0 col21\" >21</th>\n",
       "      <th id=\"T_621ec_level0_col22\" class=\"col_heading level0 col22\" >22</th>\n",
       "      <th id=\"T_621ec_level0_col23\" class=\"col_heading level0 col23\" >23</th>\n",
       "      <th id=\"T_621ec_level0_col24\" class=\"col_heading level0 col24\" >24</th>\n",
       "    </tr>\n",
       "    <tr>\n",
       "      <th class=\"index_name level0\" >Quarterly cohorts</th>\n",
       "      <th class=\"blank col0\" >&nbsp;</th>\n",
       "      <th class=\"blank col1\" >&nbsp;</th>\n",
       "      <th class=\"blank col2\" >&nbsp;</th>\n",
       "      <th class=\"blank col3\" >&nbsp;</th>\n",
       "      <th class=\"blank col4\" >&nbsp;</th>\n",
       "      <th class=\"blank col5\" >&nbsp;</th>\n",
       "      <th class=\"blank col6\" >&nbsp;</th>\n",
       "      <th class=\"blank col7\" >&nbsp;</th>\n",
       "      <th class=\"blank col8\" >&nbsp;</th>\n",
       "      <th class=\"blank col9\" >&nbsp;</th>\n",
       "      <th class=\"blank col10\" >&nbsp;</th>\n",
       "      <th class=\"blank col11\" >&nbsp;</th>\n",
       "      <th class=\"blank col12\" >&nbsp;</th>\n",
       "      <th class=\"blank col13\" >&nbsp;</th>\n",
       "      <th class=\"blank col14\" >&nbsp;</th>\n",
       "      <th class=\"blank col15\" >&nbsp;</th>\n",
       "      <th class=\"blank col16\" >&nbsp;</th>\n",
       "      <th class=\"blank col17\" >&nbsp;</th>\n",
       "      <th class=\"blank col18\" >&nbsp;</th>\n",
       "      <th class=\"blank col19\" >&nbsp;</th>\n",
       "      <th class=\"blank col20\" >&nbsp;</th>\n",
       "      <th class=\"blank col21\" >&nbsp;</th>\n",
       "      <th class=\"blank col22\" >&nbsp;</th>\n",
       "      <th class=\"blank col23\" >&nbsp;</th>\n",
       "      <th class=\"blank col24\" >&nbsp;</th>\n",
       "    </tr>\n",
       "  </thead>\n",
       "  <tbody>\n",
       "    <tr>\n",
       "      <th id=\"T_621ec_level0_row0\" class=\"row_heading level0 row0\" >2018Q2</th>\n",
       "      <td id=\"T_621ec_row0_col0\" class=\"data row0 col0\" >36347.00</td>\n",
       "      <td id=\"T_621ec_row0_col1\" class=\"data row0 col1\" >10.50</td>\n",
       "      <td id=\"T_621ec_row0_col2\" class=\"data row0 col2\" >5.21</td>\n",
       "      <td id=\"T_621ec_row0_col3\" class=\"data row0 col3\" >5.21</td>\n",
       "      <td id=\"T_621ec_row0_col4\" class=\"data row0 col4\" >5.21</td>\n",
       "      <td id=\"T_621ec_row0_col5\" class=\"data row0 col5\" >5.21</td>\n",
       "      <td id=\"T_621ec_row0_col6\" class=\"data row0 col6\" >5.21</td>\n",
       "      <td id=\"T_621ec_row0_col7\" class=\"data row0 col7\" >5.21</td>\n",
       "      <td id=\"T_621ec_row0_col8\" class=\"data row0 col8\" >5.21</td>\n",
       "      <td id=\"T_621ec_row0_col9\" class=\"data row0 col9\" >5.21</td>\n",
       "      <td id=\"T_621ec_row0_col10\" class=\"data row0 col10\" >5.21</td>\n",
       "      <td id=\"T_621ec_row0_col11\" class=\"data row0 col11\" >5.21</td>\n",
       "      <td id=\"T_621ec_row0_col12\" class=\"data row0 col12\" >5.21</td>\n",
       "      <td id=\"T_621ec_row0_col13\" class=\"data row0 col13\" >5.21</td>\n",
       "      <td id=\"T_621ec_row0_col14\" class=\"data row0 col14\" >5.21</td>\n",
       "      <td id=\"T_621ec_row0_col15\" class=\"data row0 col15\" >5.21</td>\n",
       "      <td id=\"T_621ec_row0_col16\" class=\"data row0 col16\" >5.21</td>\n",
       "      <td id=\"T_621ec_row0_col17\" class=\"data row0 col17\" >5.21</td>\n",
       "      <td id=\"T_621ec_row0_col18\" class=\"data row0 col18\" >5.21</td>\n",
       "      <td id=\"T_621ec_row0_col19\" class=\"data row0 col19\" >5.21</td>\n",
       "      <td id=\"T_621ec_row0_col20\" class=\"data row0 col20\" >5.21</td>\n",
       "      <td id=\"T_621ec_row0_col21\" class=\"data row0 col21\" >5.21</td>\n",
       "      <td id=\"T_621ec_row0_col22\" class=\"data row0 col22\" >5.21</td>\n",
       "      <td id=\"T_621ec_row0_col23\" class=\"data row0 col23\" >5.21</td>\n",
       "      <td id=\"T_621ec_row0_col24\" class=\"data row0 col24\" >5.21</td>\n",
       "    </tr>\n",
       "    <tr>\n",
       "      <th id=\"T_621ec_level0_row1\" class=\"row_heading level0 row1\" >2018Q3</th>\n",
       "      <td id=\"T_621ec_row1_col0\" class=\"data row1 col0\" >42715.00</td>\n",
       "      <td id=\"T_621ec_row1_col1\" class=\"data row1 col1\" >9.99</td>\n",
       "      <td id=\"T_621ec_row1_col2\" class=\"data row1 col2\" >4.89</td>\n",
       "      <td id=\"T_621ec_row1_col3\" class=\"data row1 col3\" >4.89</td>\n",
       "      <td id=\"T_621ec_row1_col4\" class=\"data row1 col4\" >4.89</td>\n",
       "      <td id=\"T_621ec_row1_col5\" class=\"data row1 col5\" >4.89</td>\n",
       "      <td id=\"T_621ec_row1_col6\" class=\"data row1 col6\" >4.89</td>\n",
       "      <td id=\"T_621ec_row1_col7\" class=\"data row1 col7\" >4.89</td>\n",
       "      <td id=\"T_621ec_row1_col8\" class=\"data row1 col8\" >4.89</td>\n",
       "      <td id=\"T_621ec_row1_col9\" class=\"data row1 col9\" >4.89</td>\n",
       "      <td id=\"T_621ec_row1_col10\" class=\"data row1 col10\" >4.89</td>\n",
       "      <td id=\"T_621ec_row1_col11\" class=\"data row1 col11\" >4.89</td>\n",
       "      <td id=\"T_621ec_row1_col12\" class=\"data row1 col12\" >4.89</td>\n",
       "      <td id=\"T_621ec_row1_col13\" class=\"data row1 col13\" >4.89</td>\n",
       "      <td id=\"T_621ec_row1_col14\" class=\"data row1 col14\" >4.89</td>\n",
       "      <td id=\"T_621ec_row1_col15\" class=\"data row1 col15\" >4.89</td>\n",
       "      <td id=\"T_621ec_row1_col16\" class=\"data row1 col16\" >4.89</td>\n",
       "      <td id=\"T_621ec_row1_col17\" class=\"data row1 col17\" >4.89</td>\n",
       "      <td id=\"T_621ec_row1_col18\" class=\"data row1 col18\" >4.89</td>\n",
       "      <td id=\"T_621ec_row1_col19\" class=\"data row1 col19\" >4.89</td>\n",
       "      <td id=\"T_621ec_row1_col20\" class=\"data row1 col20\" >4.89</td>\n",
       "      <td id=\"T_621ec_row1_col21\" class=\"data row1 col21\" >4.89</td>\n",
       "      <td id=\"T_621ec_row1_col22\" class=\"data row1 col22\" >4.89</td>\n",
       "      <td id=\"T_621ec_row1_col23\" class=\"data row1 col23\" >4.89</td>\n",
       "      <td id=\"T_621ec_row1_col24\" class=\"data row1 col24\" >4.35</td>\n",
       "    </tr>\n",
       "    <tr>\n",
       "      <th id=\"T_621ec_level0_row2\" class=\"row_heading level0 row2\" >2018Q4</th>\n",
       "      <td id=\"T_621ec_row2_col0\" class=\"data row2 col0\" >49690.00</td>\n",
       "      <td id=\"T_621ec_row2_col1\" class=\"data row2 col1\" >10.32</td>\n",
       "      <td id=\"T_621ec_row2_col2\" class=\"data row2 col2\" >4.98</td>\n",
       "      <td id=\"T_621ec_row2_col3\" class=\"data row2 col3\" >4.98</td>\n",
       "      <td id=\"T_621ec_row2_col4\" class=\"data row2 col4\" >4.98</td>\n",
       "      <td id=\"T_621ec_row2_col5\" class=\"data row2 col5\" >4.98</td>\n",
       "      <td id=\"T_621ec_row2_col6\" class=\"data row2 col6\" >4.98</td>\n",
       "      <td id=\"T_621ec_row2_col7\" class=\"data row2 col7\" >4.98</td>\n",
       "      <td id=\"T_621ec_row2_col8\" class=\"data row2 col8\" >4.98</td>\n",
       "      <td id=\"T_621ec_row2_col9\" class=\"data row2 col9\" >4.98</td>\n",
       "      <td id=\"T_621ec_row2_col10\" class=\"data row2 col10\" >4.98</td>\n",
       "      <td id=\"T_621ec_row2_col11\" class=\"data row2 col11\" >4.98</td>\n",
       "      <td id=\"T_621ec_row2_col12\" class=\"data row2 col12\" >4.98</td>\n",
       "      <td id=\"T_621ec_row2_col13\" class=\"data row2 col13\" >4.98</td>\n",
       "      <td id=\"T_621ec_row2_col14\" class=\"data row2 col14\" >4.98</td>\n",
       "      <td id=\"T_621ec_row2_col15\" class=\"data row2 col15\" >4.98</td>\n",
       "      <td id=\"T_621ec_row2_col16\" class=\"data row2 col16\" >4.98</td>\n",
       "      <td id=\"T_621ec_row2_col17\" class=\"data row2 col17\" >4.98</td>\n",
       "      <td id=\"T_621ec_row2_col18\" class=\"data row2 col18\" >4.98</td>\n",
       "      <td id=\"T_621ec_row2_col19\" class=\"data row2 col19\" >4.98</td>\n",
       "      <td id=\"T_621ec_row2_col20\" class=\"data row2 col20\" >4.98</td>\n",
       "      <td id=\"T_621ec_row2_col21\" class=\"data row2 col21\" >4.38</td>\n",
       "      <td id=\"T_621ec_row2_col22\" class=\"data row2 col22\" >2.68</td>\n",
       "      <td id=\"T_621ec_row2_col23\" class=\"data row2 col23\" >1.07</td>\n",
       "      <td id=\"T_621ec_row2_col24\" class=\"data row2 col24\" ></td>\n",
       "    </tr>\n",
       "    <tr>\n",
       "      <th id=\"T_621ec_level0_row3\" class=\"row_heading level0 row3\" >2019Q1</th>\n",
       "      <td id=\"T_621ec_row3_col0\" class=\"data row3 col0\" >56455.00</td>\n",
       "      <td id=\"T_621ec_row3_col1\" class=\"data row3 col1\" >10.31</td>\n",
       "      <td id=\"T_621ec_row3_col2\" class=\"data row3 col2\" >5.03</td>\n",
       "      <td id=\"T_621ec_row3_col3\" class=\"data row3 col3\" >5.03</td>\n",
       "      <td id=\"T_621ec_row3_col4\" class=\"data row3 col4\" >5.03</td>\n",
       "      <td id=\"T_621ec_row3_col5\" class=\"data row3 col5\" >5.03</td>\n",
       "      <td id=\"T_621ec_row3_col6\" class=\"data row3 col6\" >5.03</td>\n",
       "      <td id=\"T_621ec_row3_col7\" class=\"data row3 col7\" >5.03</td>\n",
       "      <td id=\"T_621ec_row3_col8\" class=\"data row3 col8\" >5.03</td>\n",
       "      <td id=\"T_621ec_row3_col9\" class=\"data row3 col9\" >5.03</td>\n",
       "      <td id=\"T_621ec_row3_col10\" class=\"data row3 col10\" >5.03</td>\n",
       "      <td id=\"T_621ec_row3_col11\" class=\"data row3 col11\" >5.03</td>\n",
       "      <td id=\"T_621ec_row3_col12\" class=\"data row3 col12\" >5.03</td>\n",
       "      <td id=\"T_621ec_row3_col13\" class=\"data row3 col13\" >5.03</td>\n",
       "      <td id=\"T_621ec_row3_col14\" class=\"data row3 col14\" >5.03</td>\n",
       "      <td id=\"T_621ec_row3_col15\" class=\"data row3 col15\" >5.03</td>\n",
       "      <td id=\"T_621ec_row3_col16\" class=\"data row3 col16\" >5.03</td>\n",
       "      <td id=\"T_621ec_row3_col17\" class=\"data row3 col17\" >5.03</td>\n",
       "      <td id=\"T_621ec_row3_col18\" class=\"data row3 col18\" >4.52</td>\n",
       "      <td id=\"T_621ec_row3_col19\" class=\"data row3 col19\" >2.77</td>\n",
       "      <td id=\"T_621ec_row3_col20\" class=\"data row3 col20\" >1.12</td>\n",
       "      <td id=\"T_621ec_row3_col21\" class=\"data row3 col21\" ></td>\n",
       "      <td id=\"T_621ec_row3_col22\" class=\"data row3 col22\" ></td>\n",
       "      <td id=\"T_621ec_row3_col23\" class=\"data row3 col23\" ></td>\n",
       "      <td id=\"T_621ec_row3_col24\" class=\"data row3 col24\" ></td>\n",
       "    </tr>\n",
       "    <tr>\n",
       "      <th id=\"T_621ec_level0_row4\" class=\"row_heading level0 row4\" >2019Q2</th>\n",
       "      <td id=\"T_621ec_row4_col0\" class=\"data row4 col0\" >66242.00</td>\n",
       "      <td id=\"T_621ec_row4_col1\" class=\"data row4 col1\" >10.34</td>\n",
       "      <td id=\"T_621ec_row4_col2\" class=\"data row4 col2\" >5.09</td>\n",
       "      <td id=\"T_621ec_row4_col3\" class=\"data row4 col3\" >5.09</td>\n",
       "      <td id=\"T_621ec_row4_col4\" class=\"data row4 col4\" >5.09</td>\n",
       "      <td id=\"T_621ec_row4_col5\" class=\"data row4 col5\" >5.09</td>\n",
       "      <td id=\"T_621ec_row4_col6\" class=\"data row4 col6\" >5.09</td>\n",
       "      <td id=\"T_621ec_row4_col7\" class=\"data row4 col7\" >5.09</td>\n",
       "      <td id=\"T_621ec_row4_col8\" class=\"data row4 col8\" >5.09</td>\n",
       "      <td id=\"T_621ec_row4_col9\" class=\"data row4 col9\" >5.09</td>\n",
       "      <td id=\"T_621ec_row4_col10\" class=\"data row4 col10\" >5.09</td>\n",
       "      <td id=\"T_621ec_row4_col11\" class=\"data row4 col11\" >5.09</td>\n",
       "      <td id=\"T_621ec_row4_col12\" class=\"data row4 col12\" >5.09</td>\n",
       "      <td id=\"T_621ec_row4_col13\" class=\"data row4 col13\" >5.09</td>\n",
       "      <td id=\"T_621ec_row4_col14\" class=\"data row4 col14\" >5.09</td>\n",
       "      <td id=\"T_621ec_row4_col15\" class=\"data row4 col15\" >4.57</td>\n",
       "      <td id=\"T_621ec_row4_col16\" class=\"data row4 col16\" >2.84</td>\n",
       "      <td id=\"T_621ec_row4_col17\" class=\"data row4 col17\" >1.12</td>\n",
       "      <td id=\"T_621ec_row4_col18\" class=\"data row4 col18\" ></td>\n",
       "      <td id=\"T_621ec_row4_col19\" class=\"data row4 col19\" ></td>\n",
       "      <td id=\"T_621ec_row4_col20\" class=\"data row4 col20\" ></td>\n",
       "      <td id=\"T_621ec_row4_col21\" class=\"data row4 col21\" ></td>\n",
       "      <td id=\"T_621ec_row4_col22\" class=\"data row4 col22\" ></td>\n",
       "      <td id=\"T_621ec_row4_col23\" class=\"data row4 col23\" ></td>\n",
       "      <td id=\"T_621ec_row4_col24\" class=\"data row4 col24\" ></td>\n",
       "    </tr>\n",
       "    <tr>\n",
       "      <th id=\"T_621ec_level0_row5\" class=\"row_heading level0 row5\" >2019Q3</th>\n",
       "      <td id=\"T_621ec_row5_col0\" class=\"data row5 col0\" >77845.00</td>\n",
       "      <td id=\"T_621ec_row5_col1\" class=\"data row5 col1\" >10.22</td>\n",
       "      <td id=\"T_621ec_row5_col2\" class=\"data row5 col2\" >5.00</td>\n",
       "      <td id=\"T_621ec_row5_col3\" class=\"data row5 col3\" >5.00</td>\n",
       "      <td id=\"T_621ec_row5_col4\" class=\"data row5 col4\" >5.00</td>\n",
       "      <td id=\"T_621ec_row5_col5\" class=\"data row5 col5\" >5.00</td>\n",
       "      <td id=\"T_621ec_row5_col6\" class=\"data row5 col6\" >5.00</td>\n",
       "      <td id=\"T_621ec_row5_col7\" class=\"data row5 col7\" >5.00</td>\n",
       "      <td id=\"T_621ec_row5_col8\" class=\"data row5 col8\" >5.00</td>\n",
       "      <td id=\"T_621ec_row5_col9\" class=\"data row5 col9\" >5.00</td>\n",
       "      <td id=\"T_621ec_row5_col10\" class=\"data row5 col10\" >5.00</td>\n",
       "      <td id=\"T_621ec_row5_col11\" class=\"data row5 col11\" >5.00</td>\n",
       "      <td id=\"T_621ec_row5_col12\" class=\"data row5 col12\" >4.48</td>\n",
       "      <td id=\"T_621ec_row5_col13\" class=\"data row5 col13\" >2.75</td>\n",
       "      <td id=\"T_621ec_row5_col14\" class=\"data row5 col14\" >1.16</td>\n",
       "      <td id=\"T_621ec_row5_col15\" class=\"data row5 col15\" ></td>\n",
       "      <td id=\"T_621ec_row5_col16\" class=\"data row5 col16\" ></td>\n",
       "      <td id=\"T_621ec_row5_col17\" class=\"data row5 col17\" ></td>\n",
       "      <td id=\"T_621ec_row5_col18\" class=\"data row5 col18\" ></td>\n",
       "      <td id=\"T_621ec_row5_col19\" class=\"data row5 col19\" ></td>\n",
       "      <td id=\"T_621ec_row5_col20\" class=\"data row5 col20\" ></td>\n",
       "      <td id=\"T_621ec_row5_col21\" class=\"data row5 col21\" ></td>\n",
       "      <td id=\"T_621ec_row5_col22\" class=\"data row5 col22\" ></td>\n",
       "      <td id=\"T_621ec_row5_col23\" class=\"data row5 col23\" ></td>\n",
       "      <td id=\"T_621ec_row5_col24\" class=\"data row5 col24\" ></td>\n",
       "    </tr>\n",
       "    <tr>\n",
       "      <th id=\"T_621ec_level0_row6\" class=\"row_heading level0 row6\" >2019Q4</th>\n",
       "      <td id=\"T_621ec_row6_col0\" class=\"data row6 col0\" >90560.00</td>\n",
       "      <td id=\"T_621ec_row6_col1\" class=\"data row6 col1\" >10.33</td>\n",
       "      <td id=\"T_621ec_row6_col2\" class=\"data row6 col2\" >5.02</td>\n",
       "      <td id=\"T_621ec_row6_col3\" class=\"data row6 col3\" >5.02</td>\n",
       "      <td id=\"T_621ec_row6_col4\" class=\"data row6 col4\" >5.02</td>\n",
       "      <td id=\"T_621ec_row6_col5\" class=\"data row6 col5\" >5.02</td>\n",
       "      <td id=\"T_621ec_row6_col6\" class=\"data row6 col6\" >5.02</td>\n",
       "      <td id=\"T_621ec_row6_col7\" class=\"data row6 col7\" >5.02</td>\n",
       "      <td id=\"T_621ec_row6_col8\" class=\"data row6 col8\" >5.02</td>\n",
       "      <td id=\"T_621ec_row6_col9\" class=\"data row6 col9\" >4.46</td>\n",
       "      <td id=\"T_621ec_row6_col10\" class=\"data row6 col10\" >2.73</td>\n",
       "      <td id=\"T_621ec_row6_col11\" class=\"data row6 col11\" >1.09</td>\n",
       "      <td id=\"T_621ec_row6_col12\" class=\"data row6 col12\" ></td>\n",
       "      <td id=\"T_621ec_row6_col13\" class=\"data row6 col13\" ></td>\n",
       "      <td id=\"T_621ec_row6_col14\" class=\"data row6 col14\" ></td>\n",
       "      <td id=\"T_621ec_row6_col15\" class=\"data row6 col15\" ></td>\n",
       "      <td id=\"T_621ec_row6_col16\" class=\"data row6 col16\" ></td>\n",
       "      <td id=\"T_621ec_row6_col17\" class=\"data row6 col17\" ></td>\n",
       "      <td id=\"T_621ec_row6_col18\" class=\"data row6 col18\" ></td>\n",
       "      <td id=\"T_621ec_row6_col19\" class=\"data row6 col19\" ></td>\n",
       "      <td id=\"T_621ec_row6_col20\" class=\"data row6 col20\" ></td>\n",
       "      <td id=\"T_621ec_row6_col21\" class=\"data row6 col21\" ></td>\n",
       "      <td id=\"T_621ec_row6_col22\" class=\"data row6 col22\" ></td>\n",
       "      <td id=\"T_621ec_row6_col23\" class=\"data row6 col23\" ></td>\n",
       "      <td id=\"T_621ec_row6_col24\" class=\"data row6 col24\" ></td>\n",
       "    </tr>\n",
       "  </tbody>\n",
       "</table>\n"
      ],
      "text/plain": [
       "<pandas.io.formats.style.Styler at 0x1f7175bbbd0>"
      ]
     },
     "execution_count": 11,
     "metadata": {},
     "output_type": "execute_result"
    }
   ],
   "source": [
    "# пример работоспособности функции\n",
    "\n",
    "_get_retention(data=Task1,\n",
    "               cohort_size=quarterly,\n",
    "               cohort_start='2018-06-01',\n",
    "               cohort_end='2019-12',\n",
    "               time_interval=monthly,\n",
    "               time_period=24)"
   ]
  },
  {
   "cell_type": "markdown",
   "metadata": {},
   "source": [
    "***В результате этого примера получилась сводная таблица с визуализацией, где когорты сформированы поквартально в период с середины 2018 по окончание 2019 года и отображают показатели retention за последние 24 месяца.***"
   ]
  },
  {
   "cell_type": "markdown",
   "metadata": {},
   "source": [
    "<br><br><br>\n",
    "\n",
    "---\n",
    "## [***`Задание №2`***](#Содержание)\n",
    "---\n",
    "\n",
    "<br><br><br>\n",
    "\n",
    "Имеются результаты A/B теста, в котором двум группам пользователей предлагались различные наборы акционных предложений. <br>Известно, что ARPU в тестовой группе выше на 5%, чем в контрольной. При этом в контрольной группе 1928 игроков из 202103 оказались платящими, а в тестовой – 1805 из 202667.\n",
    "\n",
    "\n",
    "Какой набор предложений можно считать лучшим? Какие метрики стоит проанализировать для принятия правильного решения и как?\n",
    "\n",
    "\n",
    "**`Формат`**[**<u>`данных`</u>**](https://yadi.sk/d/SOkIsD5A8xlI7Q \"Ссылка на задание в Яндекс диск\"):\n",
    "\n",
    "\n",
    "user_id\t|revenue |testgroup\n",
    "-:      |-:      |-:\n",
    "1\t    |0\t     |b\n",
    "2\t    |0\t     |a\n",
    "3\t    |0\t     |a\n",
    "4\t    |0\t     |b\n",
    "5\t    |0\t     |b\n",
    "\n",
    "<br><br><br><br><br><br><br><br><br><br><br><br><br><br>"
   ]
  },
  {
   "cell_type": "markdown",
   "metadata": {},
   "source": [
    "-----\n",
    "###  [***`2.1 Подготовительный этап`***](#Содержание)\n",
    "-----"
   ]
  },
  {
   "cell_type": "code",
   "execution_count": 12,
   "metadata": {},
   "outputs": [],
   "source": [
    "# использую api Яндекс диска\n",
    "\n",
    "base_url = 'https://cloud-api.yandex.net/v1/disk/public/resources/download?' \n",
    "pub_key = 'https://yadi.sk/d/SOkIsD5A8xlI7Q' "
   ]
  },
  {
   "cell_type": "code",
   "execution_count": 13,
   "metadata": {},
   "outputs": [],
   "source": [
    "# получаю url\n",
    "\n",
    "final_url = base_url + urlencode(dict(public_key=pub_key)) \n",
    "response = requests.get(final_url) \n",
    "load_url = response.json()['href'] "
   ]
  },
  {
   "cell_type": "code",
   "execution_count": 14,
   "metadata": {},
   "outputs": [
    {
     "name": "stdout",
     "output_type": "stream",
     "text": [
      "Таблица содержит 404770 строк и 3 столбцов, 0 пропусков и 0 дубликатов.\n",
      " \n",
      "Тип данных: \n",
      "user_id       int64\n",
      "revenue       int64\n",
      "testgroup    object\n",
      "dtype: object \n",
      "\n",
      "Число уникальных значений: \n",
      "user_id      404770\n",
      "revenue        1477\n",
      "testgroup         2\n",
      "dtype: int64\n"
     ]
    },
    {
     "data": {
      "text/html": [
       "<div>\n",
       "<style scoped>\n",
       "    .dataframe tbody tr th:only-of-type {\n",
       "        vertical-align: middle;\n",
       "    }\n",
       "\n",
       "    .dataframe tbody tr th {\n",
       "        vertical-align: top;\n",
       "    }\n",
       "\n",
       "    .dataframe thead th {\n",
       "        text-align: right;\n",
       "    }\n",
       "</style>\n",
       "<table border=\"1\" class=\"dataframe\">\n",
       "  <thead>\n",
       "    <tr style=\"text-align: right;\">\n",
       "      <th></th>\n",
       "      <th>user_id</th>\n",
       "      <th>revenue</th>\n",
       "      <th>testgroup</th>\n",
       "    </tr>\n",
       "  </thead>\n",
       "  <tbody>\n",
       "    <tr>\n",
       "      <th>0</th>\n",
       "      <td>1</td>\n",
       "      <td>0</td>\n",
       "      <td>b</td>\n",
       "    </tr>\n",
       "    <tr>\n",
       "      <th>1</th>\n",
       "      <td>2</td>\n",
       "      <td>0</td>\n",
       "      <td>a</td>\n",
       "    </tr>\n",
       "    <tr>\n",
       "      <th>2</th>\n",
       "      <td>3</td>\n",
       "      <td>0</td>\n",
       "      <td>a</td>\n",
       "    </tr>\n",
       "    <tr>\n",
       "      <th>3</th>\n",
       "      <td>4</td>\n",
       "      <td>0</td>\n",
       "      <td>b</td>\n",
       "    </tr>\n",
       "    <tr>\n",
       "      <th>4</th>\n",
       "      <td>5</td>\n",
       "      <td>0</td>\n",
       "      <td>b</td>\n",
       "    </tr>\n",
       "  </tbody>\n",
       "</table>\n",
       "</div>"
      ],
      "text/plain": [
       "   user_id  revenue testgroup\n",
       "0        1        0         b\n",
       "1        2        0         a\n",
       "2        3        0         a\n",
       "3        4        0         b\n",
       "4        5        0         b"
      ]
     },
     "execution_count": 14,
     "metadata": {},
     "output_type": "execute_result"
    }
   ],
   "source": [
    "# загружаю файл в таблицу и вывожу информацию\n",
    "\n",
    "load_resp = requests.get(load_url) \n",
    "Task2 = pd.read_csv(load_url, sep=';')\n",
    "\n",
    "_get_info(Task2) \n",
    "Task2.head()"
   ]
  },
  {
   "cell_type": "code",
   "execution_count": 15,
   "metadata": {},
   "outputs": [
    {
     "name": "stdout",
     "output_type": "stream",
     "text": [
      "Пересечения в группах отсутствуют.\n"
     ]
    }
   ],
   "source": [
    "# смотрю нет ли пересечений между контрольной и тестовой группой\n",
    "\n",
    "gr_A = set(Task2.query('testgroup == \"a\"')['user_id'])\n",
    "gr_B = set(Task2.query('testgroup == \"b\"')['user_id'])\n",
    "\n",
    "if gr_A.intersection(gr_B) is True:\n",
    "    \n",
    "    print('Присутствуют пересечения в группах.') \n",
    "\n",
    "else:\n",
    "    \n",
    "    print('Пересечения в группах отсутствуют.')"
   ]
  },
  {
   "cell_type": "code",
   "execution_count": 16,
   "metadata": {},
   "outputs": [
    {
     "data": {
      "text/html": [
       "<div>\n",
       "<style scoped>\n",
       "    .dataframe tbody tr th:only-of-type {\n",
       "        vertical-align: middle;\n",
       "    }\n",
       "\n",
       "    .dataframe tbody tr th {\n",
       "        vertical-align: top;\n",
       "    }\n",
       "\n",
       "    .dataframe thead th {\n",
       "        text-align: right;\n",
       "    }\n",
       "</style>\n",
       "<table border=\"1\" class=\"dataframe\">\n",
       "  <thead>\n",
       "    <tr style=\"text-align: right;\">\n",
       "      <th></th>\n",
       "      <th>user_id</th>\n",
       "      <th>revenue</th>\n",
       "      <th>testgroup</th>\n",
       "    </tr>\n",
       "  </thead>\n",
       "  <tbody>\n",
       "    <tr>\n",
       "      <th>72</th>\n",
       "      <td>73</td>\n",
       "      <td>351</td>\n",
       "      <td>a</td>\n",
       "    </tr>\n",
       "    <tr>\n",
       "      <th>160</th>\n",
       "      <td>161</td>\n",
       "      <td>3797</td>\n",
       "      <td>b</td>\n",
       "    </tr>\n",
       "    <tr>\n",
       "      <th>341</th>\n",
       "      <td>342</td>\n",
       "      <td>290</td>\n",
       "      <td>a</td>\n",
       "    </tr>\n",
       "    <tr>\n",
       "      <th>377</th>\n",
       "      <td>378</td>\n",
       "      <td>3768</td>\n",
       "      <td>b</td>\n",
       "    </tr>\n",
       "    <tr>\n",
       "      <th>385</th>\n",
       "      <td>386</td>\n",
       "      <td>250</td>\n",
       "      <td>a</td>\n",
       "    </tr>\n",
       "  </tbody>\n",
       "</table>\n",
       "</div>"
      ],
      "text/plain": [
       "     user_id  revenue testgroup\n",
       "72        73      351         a\n",
       "160      161     3797         b\n",
       "341      342      290         a\n",
       "377      378     3768         b\n",
       "385      386      250         a"
      ]
     },
     "execution_count": 16,
     "metadata": {},
     "output_type": "execute_result"
    }
   ],
   "source": [
    "# фильтрую платящих пользователей\n",
    "\n",
    "client = Task2[Task2.revenue != 0]\n",
    "client.head()"
   ]
  },
  {
   "cell_type": "code",
   "execution_count": 17,
   "metadata": {},
   "outputs": [
    {
     "data": {
      "text/html": [
       "<div>\n",
       "<style scoped>\n",
       "    .dataframe tbody tr th:only-of-type {\n",
       "        vertical-align: middle;\n",
       "    }\n",
       "\n",
       "    .dataframe tbody tr th {\n",
       "        vertical-align: top;\n",
       "    }\n",
       "\n",
       "    .dataframe thead th {\n",
       "        text-align: right;\n",
       "    }\n",
       "</style>\n",
       "<table border=\"1\" class=\"dataframe\">\n",
       "  <thead>\n",
       "    <tr style=\"text-align: right;\">\n",
       "      <th></th>\n",
       "      <th>count</th>\n",
       "      <th>mean</th>\n",
       "      <th>median</th>\n",
       "      <th>std</th>\n",
       "    </tr>\n",
       "    <tr>\n",
       "      <th>testgroup</th>\n",
       "      <th></th>\n",
       "      <th></th>\n",
       "      <th></th>\n",
       "      <th></th>\n",
       "    </tr>\n",
       "  </thead>\n",
       "  <tbody>\n",
       "    <tr>\n",
       "      <th>a</th>\n",
       "      <td>202103</td>\n",
       "      <td>25.41</td>\n",
       "      <td>0.0</td>\n",
       "      <td>920.77</td>\n",
       "    </tr>\n",
       "    <tr>\n",
       "      <th>b</th>\n",
       "      <td>202667</td>\n",
       "      <td>26.75</td>\n",
       "      <td>0.0</td>\n",
       "      <td>287.32</td>\n",
       "    </tr>\n",
       "  </tbody>\n",
       "</table>\n",
       "</div>"
      ],
      "text/plain": [
       "            count   mean  median     std\n",
       "testgroup                               \n",
       "a          202103  25.41     0.0  920.77\n",
       "b          202667  26.75     0.0  287.32"
      ]
     },
     "execution_count": 17,
     "metadata": {},
     "output_type": "execute_result"
    }
   ],
   "source": [
    "# описательная статистика выручки по группам активных пользователей\n",
    "\n",
    "user_desc = Task2.groupby('testgroup').revenue.agg(['count', 'mean',\n",
    "                                                    'median', 'std']).round(2)\n",
    "user_desc"
   ]
  },
  {
   "cell_type": "code",
   "execution_count": 18,
   "metadata": {
    "scrolled": true
   },
   "outputs": [
    {
     "data": {
      "image/png": "[encoded data removed]",
      "text/plain": [
       "<Figure size 640x480 with 1 Axes>"
      ]
     },
     "metadata": {},
     "output_type": "display_data"
    }
   ],
   "source": [
    "# распредление доходов активных пользователей\n",
    "\n",
    "sns.histplot(data=Task2, x=\"revenue\", bins=50);"
   ]
  },
  {
   "cell_type": "code",
   "execution_count": 19,
   "metadata": {},
   "outputs": [
    {
     "data": {
      "text/html": [
       "<div>\n",
       "<style scoped>\n",
       "    .dataframe tbody tr th:only-of-type {\n",
       "        vertical-align: middle;\n",
       "    }\n",
       "\n",
       "    .dataframe tbody tr th {\n",
       "        vertical-align: top;\n",
       "    }\n",
       "\n",
       "    .dataframe thead th {\n",
       "        text-align: right;\n",
       "    }\n",
       "</style>\n",
       "<table border=\"1\" class=\"dataframe\">\n",
       "  <thead>\n",
       "    <tr style=\"text-align: right;\">\n",
       "      <th></th>\n",
       "      <th>count</th>\n",
       "      <th>min</th>\n",
       "      <th>max</th>\n",
       "      <th>sum</th>\n",
       "      <th>mean</th>\n",
       "      <th>median</th>\n",
       "      <th>std</th>\n",
       "    </tr>\n",
       "    <tr>\n",
       "      <th>testgroup</th>\n",
       "      <th></th>\n",
       "      <th></th>\n",
       "      <th></th>\n",
       "      <th></th>\n",
       "      <th></th>\n",
       "      <th></th>\n",
       "      <th></th>\n",
       "    </tr>\n",
       "  </thead>\n",
       "  <tbody>\n",
       "    <tr>\n",
       "      <th>a</th>\n",
       "      <td>1928</td>\n",
       "      <td>200</td>\n",
       "      <td>37433</td>\n",
       "      <td>5136189</td>\n",
       "      <td>2664.00</td>\n",
       "      <td>311.0</td>\n",
       "      <td>9049.04</td>\n",
       "    </tr>\n",
       "    <tr>\n",
       "      <th>b</th>\n",
       "      <td>1805</td>\n",
       "      <td>2000</td>\n",
       "      <td>4000</td>\n",
       "      <td>5421603</td>\n",
       "      <td>3003.66</td>\n",
       "      <td>3022.0</td>\n",
       "      <td>572.62</td>\n",
       "    </tr>\n",
       "  </tbody>\n",
       "</table>\n",
       "</div>"
      ],
      "text/plain": [
       "           count   min    max      sum     mean  median      std\n",
       "testgroup                                                       \n",
       "a           1928   200  37433  5136189  2664.00   311.0  9049.04\n",
       "b           1805  2000   4000  5421603  3003.66  3022.0   572.62"
      ]
     },
     "execution_count": 19,
     "metadata": {},
     "output_type": "execute_result"
    }
   ],
   "source": [
    "# описательная статистика выручки по группам платящих пользователей\n",
    "\n",
    "client_desc = client.groupby('testgroup').revenue.agg(['count', 'min', 'max', 'sum', \n",
    "                                                       'mean', 'median', 'std']).round(2)\n",
    "client_desc"
   ]
  },
  {
   "cell_type": "code",
   "execution_count": 20,
   "metadata": {},
   "outputs": [
    {
     "data": {
      "image/png": "[encoded data removed]",
      "text/plain": [
       "<Figure size 640x480 with 1 Axes>"
      ]
     },
     "metadata": {},
     "output_type": "display_data"
    }
   ],
   "source": [
    "sns.histplot(data=client, x=\"revenue\", hue='testgroup', bins=50);"
   ]
  },
  {
   "cell_type": "code",
   "execution_count": 21,
   "metadata": {},
   "outputs": [
    {
     "data": {
      "image/png": "[encoded data removed]",
      "text/plain": [
       "<Figure size 640x480 with 1 Axes>"
      ]
     },
     "metadata": {},
     "output_type": "display_data"
    }
   ],
   "source": [
    "# распредление доходов платящих пользователей в группе А\n",
    "\n",
    "sns.histplot(data=client.query('testgroup == \"a\"'), x=\"revenue\", bins=50);"
   ]
  },
  {
   "cell_type": "code",
   "execution_count": 22,
   "metadata": {
    "scrolled": true
   },
   "outputs": [
    {
     "data": {
      "image/png": "[encoded data removed]",
      "text/plain": [
       "<Figure size 640x480 with 1 Axes>"
      ]
     },
     "metadata": {},
     "output_type": "display_data"
    }
   ],
   "source": [
    "# распредление доходов платящих пользователей в группе B\n",
    "\n",
    "sns.histplot(data=client.query('testgroup == \"b\"'), x=\"revenue\", bins=50);"
   ]
  },
  {
   "cell_type": "markdown",
   "metadata": {},
   "source": [
    "***На графиках распределения доходов платящих пользователей наблюдается следующее:***\n",
    "\n",
    "- в контрольной группе огромное количество околонулевых значений и некоторое количество экстремальных значений;\n",
    "\n",
    "\n",
    "- в тестовой группе более стабильное распределение вокруг определеных значений;\n",
    "\n",
    "\n",
    "- распределение в группах не похоже на нормальное и к тому же оба они ни никак не пересекаются,<br> что возможно даже говорит о некорректности сплитования при проведении тестирования, но это только предположение.\n"
   ]
  },
  {
   "cell_type": "markdown",
   "metadata": {},
   "source": [
    "---\n",
    "###  [***`2.2 Решение`***](#Содержание)\n",
    "---"
   ]
  },
  {
   "cell_type": "markdown",
   "metadata": {},
   "source": [
    "По имеющимся данным, чтобы ответить на вопрос: \"Какой набор предложений можно считать лучшим?\",<br>\n",
    "– проанализируем следующие метрики:\n",
    "\n",
    "- ***Конверсия (conversion rate, CR)*** — отношение числа пользователей, которые выполнили какое-либо целевое действие к <br>общему числу пользователей. В нашем случае — конверсия в покупку;\n",
    "\n",
    "\n",
    "- ***ARPU (Average revenue per user)*** — средний доход на активного пользователя. Считается путём деления выручки за<br> определённый период на количество активных пользователей за тот же период."
   ]
  },
  {
   "cell_type": "markdown",
   "metadata": {},
   "source": [
    "####  [***Conversion rate в покупку***](#Содержание)"
   ]
  },
  {
   "cell_type": "code",
   "execution_count": 23,
   "metadata": {},
   "outputs": [],
   "source": [
    "# столбец с фактом оплаты акционного предложения\n",
    "\n",
    "Task2['payment'] = Task2['revenue'].apply(lambda x: x != 0) * 1"
   ]
  },
  {
   "cell_type": "code",
   "execution_count": 24,
   "metadata": {},
   "outputs": [
    {
     "data": {
      "text/html": [
       "<div>\n",
       "<style scoped>\n",
       "    .dataframe tbody tr th:only-of-type {\n",
       "        vertical-align: middle;\n",
       "    }\n",
       "\n",
       "    .dataframe tbody tr th {\n",
       "        vertical-align: top;\n",
       "    }\n",
       "\n",
       "    .dataframe thead th {\n",
       "        text-align: right;\n",
       "    }\n",
       "</style>\n",
       "<table border=\"1\" class=\"dataframe\">\n",
       "  <thead>\n",
       "    <tr style=\"text-align: right;\">\n",
       "      <th>payment</th>\n",
       "      <th>not_buy</th>\n",
       "      <th>buy</th>\n",
       "    </tr>\n",
       "    <tr>\n",
       "      <th>testgroup</th>\n",
       "      <th></th>\n",
       "      <th></th>\n",
       "    </tr>\n",
       "  </thead>\n",
       "  <tbody>\n",
       "    <tr>\n",
       "      <th>a</th>\n",
       "      <td>200175</td>\n",
       "      <td>1928</td>\n",
       "    </tr>\n",
       "    <tr>\n",
       "      <th>b</th>\n",
       "      <td>200862</td>\n",
       "      <td>1805</td>\n",
       "    </tr>\n",
       "  </tbody>\n",
       "</table>\n",
       "</div>"
      ],
      "text/plain": [
       "payment    not_buy   buy\n",
       "testgroup               \n",
       "a           200175  1928\n",
       "b           200862  1805"
      ]
     },
     "execution_count": 24,
     "metadata": {},
     "output_type": "execute_result"
    }
   ],
   "source": [
    "# пропорции между группами пользователей и факта оплаты\n",
    "\n",
    "pay_ratio = pd.crosstab(Task2['testgroup'], Task2['payment']) \\\n",
    "              .rename(columns={0: 'not_buy', 1: 'buy'}) \n",
    "pay_ratio"
   ]
  },
  {
   "cell_type": "code",
   "execution_count": 25,
   "metadata": {},
   "outputs": [
    {
     "name": "stdout",
     "output_type": "stream",
     "text": [
      "Конверсия в группе A больше на ~7.1 %.\n"
     ]
    }
   ],
   "source": [
    "# процентная разница в конверсии между группами\n",
    "\n",
    "CR_message = \"Конверсия в группе {} больше на ~{} %.\"\n",
    "CR_A = (pay_ratio.loc['a'][1] / user_desc.loc['a', 'count'])\n",
    "CR_B = (pay_ratio.loc['b'][1] / user_desc.loc['b', 'count'])\n",
    "\n",
    "if CR_A > CR_B:\n",
    "    \n",
    "    CR_diff = (CR_A / CR_B * 100 - 100).round(1)\n",
    "    print(CR_message.format('A', CR_diff))\n",
    "    \n",
    "else:\n",
    "    \n",
    "    CR_diff = (CR_B / CR_A * 100 - 100).round(1)\n",
    "    print(CR_message.format('B', CR_diff))"
   ]
  },
  {
   "cell_type": "markdown",
   "metadata": {},
   "source": [
    "**Конверсия в группе \"А\" оказалась выше**. Проверим значима ли эта разница статистически с помощью<br> \n",
    "непараметрического теста **Хи-квадрат**, который работает с категориальными данными."
   ]
  },
  {
   "cell_type": "code",
   "execution_count": 26,
   "metadata": {},
   "outputs": [
    {
     "name": "stdout",
     "output_type": "stream",
     "text": [
      "H1 – результат статистически значим.\n"
     ]
    }
   ],
   "source": [
    "# проверка гипотезы о статистической значимости\n",
    "\n",
    "stat, p, dof, expected = chi2_contingency(pay_ratio)\n",
    "\n",
    "H = '{}результат статистически {}значим.'\n",
    "\n",
    "prob = 0.95\n",
    "crit = chi2.ppf(prob, dof)\n",
    "alpha = 1.0 - prob\n",
    "\n",
    "if abs(stat) >= crit or p <= alpha:\n",
    "    \n",
    "    print(H.format('H1 – ', ''))\n",
    "\n",
    "else:\n",
    "   \n",
    "    print(H.format('H0 – ', 'не '))"
   ]
  },
  {
   "cell_type": "code",
   "execution_count": 27,
   "metadata": {},
   "outputs": [],
   "source": [
    "# тот же тест из другой библиотеки\n",
    "\n",
    "exp, obs, stats = pg.chi2_independence(data=Task2, x='testgroup', y='payment')"
   ]
  },
  {
   "cell_type": "code",
   "execution_count": 28,
   "metadata": {},
   "outputs": [
    {
     "data": {
      "text/html": [
       "<div>\n",
       "<style scoped>\n",
       "    .dataframe tbody tr th:only-of-type {\n",
       "        vertical-align: middle;\n",
       "    }\n",
       "\n",
       "    .dataframe tbody tr th {\n",
       "        vertical-align: top;\n",
       "    }\n",
       "\n",
       "    .dataframe thead th {\n",
       "        text-align: right;\n",
       "    }\n",
       "</style>\n",
       "<table border=\"1\" class=\"dataframe\">\n",
       "  <thead>\n",
       "    <tr style=\"text-align: right;\">\n",
       "      <th></th>\n",
       "      <th>test</th>\n",
       "      <th>pval</th>\n",
       "      <th>cramer</th>\n",
       "    </tr>\n",
       "  </thead>\n",
       "  <tbody>\n",
       "    <tr>\n",
       "      <th>0</th>\n",
       "      <td>pearson</td>\n",
       "      <td>0.036476</td>\n",
       "      <td>0.003288</td>\n",
       "    </tr>\n",
       "    <tr>\n",
       "      <th>1</th>\n",
       "      <td>cressie-read</td>\n",
       "      <td>0.036473</td>\n",
       "      <td>0.003288</td>\n",
       "    </tr>\n",
       "    <tr>\n",
       "      <th>2</th>\n",
       "      <td>log-likelihood</td>\n",
       "      <td>0.036461</td>\n",
       "      <td>0.003288</td>\n",
       "    </tr>\n",
       "    <tr>\n",
       "      <th>3</th>\n",
       "      <td>freeman-tukey</td>\n",
       "      <td>0.036446</td>\n",
       "      <td>0.003288</td>\n",
       "    </tr>\n",
       "    <tr>\n",
       "      <th>4</th>\n",
       "      <td>mod-log-likelihood</td>\n",
       "      <td>0.036428</td>\n",
       "      <td>0.003288</td>\n",
       "    </tr>\n",
       "    <tr>\n",
       "      <th>5</th>\n",
       "      <td>neyman</td>\n",
       "      <td>0.036377</td>\n",
       "      <td>0.003289</td>\n",
       "    </tr>\n",
       "  </tbody>\n",
       "</table>\n",
       "</div>"
      ],
      "text/plain": [
       "                 test      pval    cramer\n",
       "0             pearson  0.036476  0.003288\n",
       "1        cressie-read  0.036473  0.003288\n",
       "2      log-likelihood  0.036461  0.003288\n",
       "3       freeman-tukey  0.036446  0.003288\n",
       "4  mod-log-likelihood  0.036428  0.003288\n",
       "5              neyman  0.036377  0.003289"
      ]
     },
     "execution_count": 28,
     "metadata": {},
     "output_type": "execute_result"
    }
   ],
   "source": [
    "# результаты теста\n",
    "\n",
    "stats[['test', 'pval', 'cramer']]"
   ]
  },
  {
   "cell_type": "markdown",
   "metadata": {},
   "source": [
    "####  [***ARPU***](#Содержание)"
   ]
  },
  {
   "cell_type": "code",
   "execution_count": 29,
   "metadata": {},
   "outputs": [],
   "source": [
    "# распределение активных пользователей на группы\n",
    "\n",
    "user_A = Task2.query('testgroup == \"a\"')['revenue']\n",
    "user_B = Task2.query('testgroup == \"b\"')['revenue']"
   ]
  },
  {
   "cell_type": "code",
   "execution_count": 30,
   "metadata": {},
   "outputs": [
    {
     "name": "stdout",
     "output_type": "stream",
     "text": [
      "Средний доход в группе B больше на ~5.3 %.\n"
     ]
    }
   ],
   "source": [
    "# процентная разница ARPU между группами активных пользоватей\n",
    "\n",
    "ARPU_message = \"Средний доход в группе {} больше на ~{} %.\"\n",
    "ARPU_A = user_desc['mean'].loc['a']\n",
    "ARPU_B = user_desc['mean'].loc['b']\n",
    "\n",
    "if ARPU_A > ARPU_B:\n",
    "    \n",
    "    ARPU_diff = (ARPU_A / ARPU_B * 100 - 100).round(1)\n",
    "    print(ARPU_message.format('A', ARPU_diff))\n",
    "    \n",
    "else:\n",
    "    \n",
    "    ARPU_diff = (ARPU_B / ARPU_A * 100 - 100).round(1)\n",
    "    print(ARPU_message.format('B', ARPU_diff))"
   ]
  },
  {
   "cell_type": "code",
   "execution_count": 31,
   "metadata": {},
   "outputs": [
    {
     "name": "stdout",
     "output_type": "stream",
     "text": [
      "H1 – распределение в группе A не нормально.\n",
      "H1 – распределение в группе B не нормально.\n"
     ]
    }
   ],
   "source": [
    "# проверка распределений в группах на нормальность\n",
    "\n",
    "normality = pg.normality(data=Task2, dv='revenue', \n",
    "                         group='testgroup', method='normaltest')\n",
    "\n",
    "H = '{}распределение в группе {}нормально.'\n",
    "\n",
    "if normality.loc['a']['normal'] is True:\n",
    "    \n",
    "    print(H.format('H0 – ', 'A'))\n",
    "\n",
    "else:\n",
    "    \n",
    "    print(H.format('H1 – ', 'A не '))\n",
    "\n",
    "if normality.loc['b']['normal'] is True:\n",
    "    \n",
    "    print(H.format('H0 – ', 'B'))\n",
    "\n",
    "else:\n",
    "    \n",
    "    print(H.format('H1 – ', 'B не '))"
   ]
  },
  {
   "cell_type": "code",
   "execution_count": 32,
   "metadata": {},
   "outputs": [
    {
     "name": "stdout",
     "output_type": "stream",
     "text": [
      "H0 – дисперсии в группах гомогенны.\n"
     ]
    }
   ],
   "source": [
    "# проверка гомогенности дисперсии в группах\n",
    "\n",
    "stat, p = sps.levene(user_A, user_B)\n",
    "\n",
    "H = '{}дисперсии в группах {}гомогенны.'\n",
    "\n",
    "prob = 0.95\n",
    "alpha = 1.0 - prob\n",
    "\n",
    "if p >= alpha:\n",
    "    \n",
    "    print(H.format('H0 – ', ''))\n",
    "\n",
    "else:\n",
    "   \n",
    "    print(H.format('H1 – ', 'не '))"
   ]
  },
  {
   "cell_type": "markdown",
   "metadata": {},
   "source": [
    "***ARPU в группе \"B\" оказался выше.*** Проверку статистической значимости проведем с помощью ***Т-теста Стьюдента***,<br>\n",
    "для сравнения средних. Хоть распределения в группах и не нормальны, но размеры выборок позволяют этим в данном<br>\n",
    "случае пренебречь, а дисперсии гомогенны."
   ]
  },
  {
   "cell_type": "code",
   "execution_count": 33,
   "metadata": {},
   "outputs": [
    {
     "name": "stdout",
     "output_type": "stream",
     "text": [
      "H0 – результат статистически не значим.\n"
     ]
    }
   ],
   "source": [
    "# проверка гипотезы о статистической значимости\n",
    "\n",
    "stat, p = sps.ttest_ind(user_A, user_B)\n",
    "\n",
    "H = '{}результат статистически {}значим.'\n",
    "\n",
    "prob = 0.95\n",
    "alpha = 1.0 - prob\n",
    "\n",
    "if p <= alpha:\n",
    "    \n",
    "    print(H.format('H1 – ', ''))\n",
    "\n",
    "else:\n",
    "   \n",
    "    print(H.format('H0 – ', 'не '))"
   ]
  },
  {
   "cell_type": "code",
   "execution_count": 34,
   "metadata": {},
   "outputs": [
    {
     "data": {
      "text/html": [
       "<div>\n",
       "<style scoped>\n",
       "    .dataframe tbody tr th:only-of-type {\n",
       "        vertical-align: middle;\n",
       "    }\n",
       "\n",
       "    .dataframe tbody tr th {\n",
       "        vertical-align: top;\n",
       "    }\n",
       "\n",
       "    .dataframe thead th {\n",
       "        text-align: right;\n",
       "    }\n",
       "</style>\n",
       "<table border=\"1\" class=\"dataframe\">\n",
       "  <thead>\n",
       "    <tr style=\"text-align: right;\">\n",
       "      <th></th>\n",
       "      <th>T</th>\n",
       "      <th>dof</th>\n",
       "      <th>alternative</th>\n",
       "      <th>p-val</th>\n",
       "      <th>CI95%</th>\n",
       "      <th>cohen-d</th>\n",
       "      <th>BF10</th>\n",
       "      <th>power</th>\n",
       "    </tr>\n",
       "  </thead>\n",
       "  <tbody>\n",
       "    <tr>\n",
       "      <th>T-test</th>\n",
       "      <td>-0.623488</td>\n",
       "      <td>240991.130782</td>\n",
       "      <td>two-sided</td>\n",
       "      <td>0.532965</td>\n",
       "      <td>[-5.54, 2.87]</td>\n",
       "      <td>0.001962</td>\n",
       "      <td>0.004</td>\n",
       "      <td>0.095694</td>\n",
       "    </tr>\n",
       "  </tbody>\n",
       "</table>\n",
       "</div>"
      ],
      "text/plain": [
       "               T            dof alternative     p-val          CI95%  \\\n",
       "T-test -0.623488  240991.130782   two-sided  0.532965  [-5.54, 2.87]   \n",
       "\n",
       "         cohen-d   BF10     power  \n",
       "T-test  0.001962  0.004  0.095694  "
      ]
     },
     "execution_count": 34,
     "metadata": {},
     "output_type": "execute_result"
    }
   ],
   "source": [
    "# тот же тест из другой библиотеки\n",
    "\n",
    "pg.ttest(user_A, user_B)"
   ]
  },
  {
   "cell_type": "markdown",
   "metadata": {},
   "source": [
    "<br><br>\n",
    "\n",
    "---\n",
    "### [***`2.3 Выводы`***](#Содержание)\n",
    "---\n",
    "<br><br><br><br>\n",
    "\n",
    "***Итоги:***\n",
    "\n",
    "- **Конверия в покупку** контрольной группы **выше на ~7.1%**, результат **статистически значим**.\n",
    "\n",
    "\n",
    "- **ARPU** тестовой группы **выше на ~5.3 %**, результат **статистически не значим**.\n",
    "\n",
    "\n",
    "Таким образом, с точки зрения статистических тестов считаю, что **набор акционных предложений для контрольной группы<br> оказался лучше**, хотя и есть некоторые сомнения по поводу корректности проведения A/B теста, так как распределения в группах<br> платящих пользователей никак не пересекаются, образуя ярко выраженные сегменты, что возможно говорит о неправильной<br> системе сплитования, но это скорее предположение.\n",
    "\n",
    "<br><br><br><br><br><br><br><br><br><br><br><br><br><br><br><br>"
   ]
  },
  {
   "cell_type": "markdown",
   "metadata": {},
   "source": [
    "<br><br>\n",
    "\n",
    "---\n",
    "## [***`Задание №3`***](#Содержание)\n",
    "---\n",
    "<br><br><br><br><br>\n",
    "\n",
    "В игре Plants & Gardens каждый месяц проводятся тематические события, ограниченные по времени. <br>\n",
    "В них игроки могут получить уникальные предметы для сада и персонажей, дополнительные монеты или бонусы.<br> \n",
    "Для получения награды требуется пройти ряд уровней за определенное время.<br>\n",
    "С помощью каких метрик можно оценить результаты последнего прошедшего события?\n",
    "\n",
    "\n",
    "Предположим, в другом событии мы усложнили механику событий так, что при каждой неудачной попытке выполнения уровня<br> игрок будет откатываться на несколько уровней назад. Изменится ли набор метрик оценки результата? Если да, то как?\n",
    "\n",
    "<br><br><br><br><br><br><br><br><br><br><br><br><br><br><br><br><br><br><br>"
   ]
  },
  {
   "cell_type": "markdown",
   "metadata": {},
   "source": [
    "---\n",
    "### 3.1 [***`Решение`***](#Содержание)\n",
    "---"
   ]
  },
  {
   "cell_type": "markdown",
   "metadata": {},
   "source": [
    "\n",
    "**Ответ на первый вопрос**\n",
    "<br> <br><br> <br>\n",
    "С помощью данных метрик, я бы стал оценивать результаты последнего прошедшего события:\n",
    "\n",
    "- ***ASD*** — *Average Session Duration* — среднее время сессий за период времени. В нашем же случае за период последнего<br> прошедшего события. Разумеется, в период прохождения события, метрика должна быть выше, иначе<br> — это говорит об отсутствии интереса у игроков к его наградам. Метрику также можно сравнить с той же метрикой предыдущих<br> событий, чтобы посмотреть её в динамике. Считается как:\n",
    "            \n",
    "      ASD = Суммарная продолжительность сессии за период времени / Общее количество сессий за тот же период\n",
    "<br>            \n",
    "- ***Stickiness rate*** — регулярность появления активных игроков в течение месяца. Должна быть выше по тем же причинам, <br>что и в первом случае. Можно также сравнить с той же метрикой в предыдущие месяцы; в дни,<br> когда проходили предыдущие события. Считается так:\n",
    "\n",
    "      Stickiness rate = DAU(количество активных игроков в день) / MAU(количество активных игроков в месяц) * 100\n",
    "<br>\n",
    "- ***Retention rate*** — процент пользователей, которые возвращаются в игру. Проведя когортный анализ можно посмотреть<br> насколько охотно пользователи возвращались в игру в период последнего прошедшего события. Формула расчёта:\n",
    "    \n",
    "      Day N Retention rate = (Количество пользователей в день N / Количество пользователей в день 0) * 100\n",
    "<br>    \n",
    "- ***Churn rate*** — процент пользователей, которые покидают в игру. Противоположный эквивалент ***Retention rate***.<br> Если во время проведения последнего тематического события метрика начала расти<br> — это может быть сигналом не только к самому контенту мероприятия, но и к его технической составляющей,<br> вызывающих негативные впечатления у игроков. Формула расчёта:\n",
    "\n",
    "      Churn Rate = 100% − Retention rate\n",
    "<br>\n",
    "- ***Game Ready API*** — время от запуска игры до момента, когда игра загрузила все ресурсы и готова к взаимодействию с игроком.<br> Техническая метрика. Позволяет оценить состояние игры и в дальнейшем проанализировать факторы, которые могли повлиять на продолжительность загрузки, если оно сильно увеличилось во время проведения последнего тематического события;\n",
    "<br><br><br>\n",
    "- Различного рода \"*узконаправленные*\" метрики в рамках контента тематического события. Например:\n",
    "  <br>\n",
    "\n",
    "  1. **Среднее время на N уровень** = Суммарная продолжительность прохождения N уровня / количество игроков;\n",
    "  <br>\n",
    "\n",
    "  2. **Среднее количество пройденных уровней** = количество пройденных уровней / общее количество уровней;\n",
    "  <br>\n",
    "  \n",
    "  3. **Среднее количество уникальных наград** = количество полученных уникальных наград / общее количество уникальных наград.\n",
    " <br> <br>      "
   ]
  },
  {
   "cell_type": "markdown",
   "metadata": {},
   "source": [
    "<br><br>\n",
    "\n",
    "**Ответ на второй вопрос**\n",
    "\n",
    "<br><br>\n",
    "Я думаю, что сам набор метрик, которые я смог придумать и найти в рамках данного задания, не поменяются,<br> скорее некоторые более \"*узконаправленные*\" из них будут \"*модифицированы*\" с учётом усложнения механики<br> и добавится несколько новых. Вот первая, которая приходит в голову:\n",
    "\n",
    "    Среднее количество перепройденных уровней = общее количество перепройденных уровней / количество \n",
    "    после неудачной попытки                     после неудачной попытки                   игроков\n",
    "\n",
    "Данная метрика может сказать нам на сколько средний игрок заинтересован в данном \"*челлендже*\" или его наградах,<br> либо на сколько данная механика оказалась сложной и более детально изучить сегменты игроков."
   ]
  },
  {
   "cell_type": "markdown",
   "metadata": {},
   "source": [
    "---\n",
    "## [***`В начало проекта`***](#Содержание)\n",
    "---"
   ]
  }
 ],
 "metadata": {
  "kernelspec": {
   "display_name": "Python 3 (ipykernel)",
   "language": "python",
   "name": "python3"
  },
  "language_info": {
   "codemirror_mode": {
    "name": "ipython",
    "version": 3
   },
   "file_extension": ".py",
   "mimetype": "text/x-python",
   "name": "python",
   "nbconvert_exporter": "python",
   "pygments_lexer": "ipython3",
   "version": "3.11.4"
  }
 },
 "nbformat": 4,
 "nbformat_minor": 4
}
